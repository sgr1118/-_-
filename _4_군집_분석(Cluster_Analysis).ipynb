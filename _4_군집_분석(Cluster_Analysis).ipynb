{
  "nbformat": 4,
  "nbformat_minor": 0,
  "metadata": {
    "colab": {
      "provenance": [],
      "include_colab_link": true
    },
    "kernelspec": {
      "name": "python3",
      "display_name": "Python 3"
    }
  },
  "cells": [
    {
      "cell_type": "markdown",
      "metadata": {
        "id": "view-in-github",
        "colab_type": "text"
      },
      "source": [
        "<a href=\"https://colab.research.google.com/github/sgr1118/NLP_basic/blob/main/_4_%EA%B5%B0%EC%A7%91_%EB%B6%84%EC%84%9D(Cluster_Analysis).ipynb\" target=\"_parent\"><img src=\"https://colab.research.google.com/assets/colab-badge.svg\" alt=\"Open In Colab\"/></a>"
      ]
    },
    {
      "cell_type": "markdown",
      "metadata": {
        "id": "yRJPtXEaccx9"
      },
      "source": [
        "# 군집 분석(Cluster Analysis)\n",
        "\n",
        "* 군집 분석은 데이터의 특성에 따라 유사한 것끼리 묶음\n",
        "* 유사성을 기반으로 군집을 분류하고, 군집에 따라 유형별 특징을 분석하는 기법\n",
        "* 텍스트에 대한 군집 분석에서는 군집으로 묶여진 텍스트들끼리는 최대한 유사하고, 다른 군집으로 묶여진 텍스트들과는 최대한 유사하지 않도록 분류"
      ]
    },
    {
      "cell_type": "markdown",
      "metadata": {
        "id": "VTtgEyisEzZs"
      },
      "source": [
        "## 문서 유사도 측정\n",
        "\n",
        "* 문서와 문서 간의 유사도 비교를 위해 유클리드 거리, 자카드 유사도 그리고 코사인 유사도 계산"
      ]
    },
    {
      "cell_type": "code",
      "metadata": {
        "id": "l-7nbG1VE-cz",
        "colab": {
          "base_uri": "https://localhost:8080/"
        },
        "outputId": "fffb24de-7d35-44ef-c94d-9f971a83d13c"
      },
      "source": [
        "import nltk\n",
        "\n",
        "nltk.download('punkt')\n",
        "nltk.download('wordnet')\n",
        "\n",
        "from nltk import word_tokenize\n",
        "from nltk.stem import WordNetLemmatizer\n",
        "from sklearn.feature_extraction.text import CountVectorizer\n",
        "from sklearn.feature_extraction.text import TfidfVectorizer\n",
        "from sklearn.metrics.pairwise import cosine_similarity"
      ],
      "execution_count": 2,
      "outputs": [
        {
          "output_type": "stream",
          "name": "stderr",
          "text": [
            "[nltk_data] Downloading package punkt to /root/nltk_data...\n",
            "[nltk_data]   Package punkt is already up-to-date!\n",
            "[nltk_data] Downloading package wordnet to /root/nltk_data...\n",
            "[nltk_data]   Package wordnet is already up-to-date!\n"
          ]
        }
      ]
    },
    {
      "cell_type": "code",
      "source": [
        "d1 = 'Thank like a man of action and act like man of thought.'\n",
        "d2 = 'Try no to become a man of success but rather try to become a man of value.'\n",
        "d3 = 'Give me liberty, of give me death'\n",
        "\n",
        "corpus = [d1, d2, d3]\n",
        "print(corpus)"
      ],
      "metadata": {
        "id": "6H1uT2uwVNVe",
        "colab": {
          "base_uri": "https://localhost:8080/"
        },
        "outputId": "142519b5-f847-48a3-efd8-a2f6d5dd1d38"
      },
      "execution_count": 3,
      "outputs": [
        {
          "output_type": "stream",
          "name": "stdout",
          "text": [
            "['Thank like a man of action and act like man of thought.', 'Try no to become a man of success but rather try to become a man of value.', 'Give me liberty, of give me death']\n"
          ]
        }
      ]
    },
    {
      "cell_type": "code",
      "source": [
        "import pandas as pd\n",
        "\n",
        "vector = CountVectorizer(stop_words = 'english')\n",
        "bow = vector.fit_transform(corpus)\n",
        "\n",
        "columns = []\n",
        "for k, v in sorted(vector.vocabulary_.items(), key = lambda item:item[1]):\n",
        "    columns.append(k)\n",
        "\n",
        "df = pd.DataFrame(bow.toarray(),columns = columns)\n",
        "df"
      ],
      "metadata": {
        "id": "Bea46n2xTKeT",
        "colab": {
          "base_uri": "https://localhost:8080/",
          "height": 143
        },
        "outputId": "ad154695-0fdf-4c5e-e222-103a7242c67c"
      },
      "execution_count": 4,
      "outputs": [
        {
          "output_type": "execute_result",
          "data": {
            "text/plain": [
              "   act  action  death  liberty  like  man  success  thank  thought  try  value\n",
              "0    1       1      0        0     2    2        0      1        1    0      0\n",
              "1    0       0      0        0     0    2        1      0        0    2      1\n",
              "2    0       0      1        1     0    0        0      0        0    0      0"
            ],
            "text/html": [
              "\n",
              "  <div id=\"df-b3d6ad2f-fb3a-44a5-ad85-7fca7aa0a402\">\n",
              "    <div class=\"colab-df-container\">\n",
              "      <div>\n",
              "<style scoped>\n",
              "    .dataframe tbody tr th:only-of-type {\n",
              "        vertical-align: middle;\n",
              "    }\n",
              "\n",
              "    .dataframe tbody tr th {\n",
              "        vertical-align: top;\n",
              "    }\n",
              "\n",
              "    .dataframe thead th {\n",
              "        text-align: right;\n",
              "    }\n",
              "</style>\n",
              "<table border=\"1\" class=\"dataframe\">\n",
              "  <thead>\n",
              "    <tr style=\"text-align: right;\">\n",
              "      <th></th>\n",
              "      <th>act</th>\n",
              "      <th>action</th>\n",
              "      <th>death</th>\n",
              "      <th>liberty</th>\n",
              "      <th>like</th>\n",
              "      <th>man</th>\n",
              "      <th>success</th>\n",
              "      <th>thank</th>\n",
              "      <th>thought</th>\n",
              "      <th>try</th>\n",
              "      <th>value</th>\n",
              "    </tr>\n",
              "  </thead>\n",
              "  <tbody>\n",
              "    <tr>\n",
              "      <th>0</th>\n",
              "      <td>1</td>\n",
              "      <td>1</td>\n",
              "      <td>0</td>\n",
              "      <td>0</td>\n",
              "      <td>2</td>\n",
              "      <td>2</td>\n",
              "      <td>0</td>\n",
              "      <td>1</td>\n",
              "      <td>1</td>\n",
              "      <td>0</td>\n",
              "      <td>0</td>\n",
              "    </tr>\n",
              "    <tr>\n",
              "      <th>1</th>\n",
              "      <td>0</td>\n",
              "      <td>0</td>\n",
              "      <td>0</td>\n",
              "      <td>0</td>\n",
              "      <td>0</td>\n",
              "      <td>2</td>\n",
              "      <td>1</td>\n",
              "      <td>0</td>\n",
              "      <td>0</td>\n",
              "      <td>2</td>\n",
              "      <td>1</td>\n",
              "    </tr>\n",
              "    <tr>\n",
              "      <th>2</th>\n",
              "      <td>0</td>\n",
              "      <td>0</td>\n",
              "      <td>1</td>\n",
              "      <td>1</td>\n",
              "      <td>0</td>\n",
              "      <td>0</td>\n",
              "      <td>0</td>\n",
              "      <td>0</td>\n",
              "      <td>0</td>\n",
              "      <td>0</td>\n",
              "      <td>0</td>\n",
              "    </tr>\n",
              "  </tbody>\n",
              "</table>\n",
              "</div>\n",
              "      <button class=\"colab-df-convert\" onclick=\"convertToInteractive('df-b3d6ad2f-fb3a-44a5-ad85-7fca7aa0a402')\"\n",
              "              title=\"Convert this dataframe to an interactive table.\"\n",
              "              style=\"display:none;\">\n",
              "        \n",
              "  <svg xmlns=\"http://www.w3.org/2000/svg\" height=\"24px\"viewBox=\"0 0 24 24\"\n",
              "       width=\"24px\">\n",
              "    <path d=\"M0 0h24v24H0V0z\" fill=\"none\"/>\n",
              "    <path d=\"M18.56 5.44l.94 2.06.94-2.06 2.06-.94-2.06-.94-.94-2.06-.94 2.06-2.06.94zm-11 1L8.5 8.5l.94-2.06 2.06-.94-2.06-.94L8.5 2.5l-.94 2.06-2.06.94zm10 10l.94 2.06.94-2.06 2.06-.94-2.06-.94-.94-2.06-.94 2.06-2.06.94z\"/><path d=\"M17.41 7.96l-1.37-1.37c-.4-.4-.92-.59-1.43-.59-.52 0-1.04.2-1.43.59L10.3 9.45l-7.72 7.72c-.78.78-.78 2.05 0 2.83L4 21.41c.39.39.9.59 1.41.59.51 0 1.02-.2 1.41-.59l7.78-7.78 2.81-2.81c.8-.78.8-2.07 0-2.86zM5.41 20L4 18.59l7.72-7.72 1.47 1.35L5.41 20z\"/>\n",
              "  </svg>\n",
              "      </button>\n",
              "      \n",
              "  <style>\n",
              "    .colab-df-container {\n",
              "      display:flex;\n",
              "      flex-wrap:wrap;\n",
              "      gap: 12px;\n",
              "    }\n",
              "\n",
              "    .colab-df-convert {\n",
              "      background-color: #E8F0FE;\n",
              "      border: none;\n",
              "      border-radius: 50%;\n",
              "      cursor: pointer;\n",
              "      display: none;\n",
              "      fill: #1967D2;\n",
              "      height: 32px;\n",
              "      padding: 0 0 0 0;\n",
              "      width: 32px;\n",
              "    }\n",
              "\n",
              "    .colab-df-convert:hover {\n",
              "      background-color: #E2EBFA;\n",
              "      box-shadow: 0px 1px 2px rgba(60, 64, 67, 0.3), 0px 1px 3px 1px rgba(60, 64, 67, 0.15);\n",
              "      fill: #174EA6;\n",
              "    }\n",
              "\n",
              "    [theme=dark] .colab-df-convert {\n",
              "      background-color: #3B4455;\n",
              "      fill: #D2E3FC;\n",
              "    }\n",
              "\n",
              "    [theme=dark] .colab-df-convert:hover {\n",
              "      background-color: #434B5C;\n",
              "      box-shadow: 0px 1px 3px 1px rgba(0, 0, 0, 0.15);\n",
              "      filter: drop-shadow(0px 1px 2px rgba(0, 0, 0, 0.3));\n",
              "      fill: #FFFFFF;\n",
              "    }\n",
              "  </style>\n",
              "\n",
              "      <script>\n",
              "        const buttonEl =\n",
              "          document.querySelector('#df-b3d6ad2f-fb3a-44a5-ad85-7fca7aa0a402 button.colab-df-convert');\n",
              "        buttonEl.style.display =\n",
              "          google.colab.kernel.accessAllowed ? 'block' : 'none';\n",
              "\n",
              "        async function convertToInteractive(key) {\n",
              "          const element = document.querySelector('#df-b3d6ad2f-fb3a-44a5-ad85-7fca7aa0a402');\n",
              "          const dataTable =\n",
              "            await google.colab.kernel.invokeFunction('convertToInteractive',\n",
              "                                                     [key], {});\n",
              "          if (!dataTable) return;\n",
              "\n",
              "          const docLinkHtml = 'Like what you see? Visit the ' +\n",
              "            '<a target=\"_blank\" href=https://colab.research.google.com/notebooks/data_table.ipynb>data table notebook</a>'\n",
              "            + ' to learn more about interactive tables.';\n",
              "          element.innerHTML = '';\n",
              "          dataTable['output_type'] = 'display_data';\n",
              "          await google.colab.output.renderOutput(dataTable, element);\n",
              "          const docLink = document.createElement('div');\n",
              "          docLink.innerHTML = docLinkHtml;\n",
              "          element.appendChild(docLink);\n",
              "        }\n",
              "      </script>\n",
              "    </div>\n",
              "  </div>\n",
              "  "
            ]
          },
          "metadata": {},
          "execution_count": 4
        }
      ]
    },
    {
      "cell_type": "markdown",
      "source": [
        "### 유클리드 거리(Euclidean distance)\n",
        "\n",
        "* 다차원 공간에서 두개의 점 $p$와 $q$ 사이의 거리를 계산하는 방법\n",
        "\n",
        "$$ \\sqrt{\\sum_{i=1}^{n}\\left (q_i - p_i \\right)^2} $$\n"
      ],
      "metadata": {
        "id": "y9cRUpl5VyZc"
      }
    },
    {
      "cell_type": "code",
      "source": [
        "import numpy as np\n",
        "\n",
        "def euclidean_distance(p, q):\n",
        "    return np.sqrt(np.sum((q-p)**2))"
      ],
      "metadata": {
        "id": "DjWU_qGHTCg1"
      },
      "execution_count": 7,
      "outputs": []
    },
    {
      "cell_type": "code",
      "source": [
        "print(euclidean_distance(bow[0].toarray(), bow[1].toarray()))\n",
        "print(euclidean_distance(bow[0].toarray(), bow[2].toarray()))\n",
        "print(euclidean_distance(bow[1].toarray(), bow[2].toarray()))"
      ],
      "metadata": {
        "id": "cJVZ1dXEVg1S",
        "colab": {
          "base_uri": "https://localhost:8080/"
        },
        "outputId": "d1aa1de8-f33e-46bc-88c7-24cabfa08122"
      },
      "execution_count": 9,
      "outputs": [
        {
          "output_type": "stream",
          "name": "stdout",
          "text": [
            "3.7416573867739413\n",
            "3.7416573867739413\n",
            "3.4641016151377544\n"
          ]
        }
      ]
    },
    {
      "cell_type": "markdown",
      "source": [
        "### 자카드 유사도(Jaccard Similarity)\n",
        "\n",
        "* 두 텍스트 문서 사이에 공통된 용어의 수와 해당 텍스트에 존재하는 총 고유 용어 수의 비율을 사용\n",
        "\n",
        "$$ jaccard(A, B)=\\frac{\\left | A\\cap B \\right |}{\\left | A\\cup B \\right |}=\\frac{\\left | A\\cap B \\right |}{\\left | A \\left |+ \\right | B \\right | - \\left | A\\cap B \\right |} $$\n"
      ],
      "metadata": {
        "id": "urRtDebyV1N2"
      }
    },
    {
      "cell_type": "code",
      "metadata": {
        "id": "SOWHS-UBFXLc"
      },
      "source": [
        "from nltk.corpus.reader.ycoe import wordpunct_tokenize\n",
        "def jaccard_similarity(d1, d2):\n",
        "    lemmatizer = WordNetLemmatizer()\n",
        "\n",
        "    words1 = [lemmatizer.lemmatize(word.lower()) for word in wordpunct_tokenize(d1)]\n",
        "    words2 = [lemmatizer.lemmatize(word.lower()) for word in wordpunct_tokenize(d2)]\n",
        "\n",
        "    inter = len(set(words1).intersection(set(words2)))\n",
        "    union = len(set(words1).union(set(words2)))\n",
        "\n",
        "    return inter/union"
      ],
      "execution_count": 11,
      "outputs": []
    },
    {
      "cell_type": "code",
      "source": [
        "nltk.download('omw-1.4')"
      ],
      "metadata": {
        "colab": {
          "base_uri": "https://localhost:8080/"
        },
        "id": "wL5SWuOoQIQH",
        "outputId": "7d627039-598b-40aa-96aa-05635b94ea17"
      },
      "execution_count": 13,
      "outputs": [
        {
          "output_type": "stream",
          "name": "stderr",
          "text": [
            "[nltk_data] Downloading package omw-1.4 to /root/nltk_data...\n"
          ]
        },
        {
          "output_type": "execute_result",
          "data": {
            "text/plain": [
              "True"
            ]
          },
          "metadata": {},
          "execution_count": 13
        }
      ]
    },
    {
      "cell_type": "code",
      "metadata": {
        "id": "6NZjjhnHHlOd",
        "colab": {
          "base_uri": "https://localhost:8080/"
        },
        "outputId": "a7e05091-7ca3-4d44-a835-5b05724c913d"
      },
      "source": [
        "print(jaccard_similarity(d1, d2))\n",
        "print(jaccard_similarity(d1, d3))\n",
        "print(jaccard_similarity(d2, d3))"
      ],
      "execution_count": 14,
      "outputs": [
        {
          "output_type": "stream",
          "name": "stdout",
          "text": [
            "0.2222222222222222\n",
            "0.06666666666666667\n",
            "0.058823529411764705\n"
          ]
        }
      ]
    },
    {
      "cell_type": "markdown",
      "source": [
        "### 코사인 유사도(Cosine Similarity)\n",
        "\n",
        "* 백터 표현 사이의 각도에 대한 코사인 값을 사용. BoW와 TF-IDF 행렬은 텍스트에 대한 백터 표현으로 활용 가능\n",
        "\n",
        "$$ cosine(A, B)=\\frac{A \\cdot B}{\\left \\| A \\right \\| \\left \\| B \\right \\|}=\\frac{\\sum_{i=1}^{N}A_i\\times B_i}{\\sqrt{\\sum_{i=1}^{N}\\left (A_i \\right)^2}\\times \\sqrt{\\sum_{i=1}^{N}\\left (B_i \\right)^2}} $$"
      ],
      "metadata": {
        "id": "oghc5bsKWBgs"
      }
    },
    {
      "cell_type": "code",
      "metadata": {
        "id": "yk0vFQBkJLnn",
        "colab": {
          "base_uri": "https://localhost:8080/"
        },
        "outputId": "13e9c8b2-3653-42f0-fd49-232155207b20"
      },
      "source": [
        "tfidf = TfidfVectorizer()\n",
        "\n",
        "tfidf_vectors = tfidf.fit_transform(corpus)\n",
        "\n",
        "print(cosine_similarity(tfidf_vectors[0], tfidf_vectors[1]))\n",
        "print(cosine_similarity(tfidf_vectors[0], tfidf_vectors[2]))\n",
        "print(cosine_similarity(tfidf_vectors[1], tfidf_vectors[2]))"
      ],
      "execution_count": 15,
      "outputs": [
        {
          "output_type": "stream",
          "name": "stdout",
          "text": [
            "[[0.22861951]]\n",
            "[[0.06083323]]\n",
            "[[0.04765587]]\n"
          ]
        }
      ]
    },
    {
      "cell_type": "markdown",
      "source": [
        "## 군집화(Clustering)\n",
        "\n",
        "* 리뷰 데이터 다운로드 (http://archive.ics.uci.edu/ml/machine-learning-databases/opinion/OpinosisDataset1.0.zip)"
      ],
      "metadata": {
        "id": "I0_dfGjtzNHM"
      }
    },
    {
      "cell_type": "code",
      "source": [
        "!wget http://archive.ics.uci.edu/ml/machine-learning-databases/opinion/OpinosisDataset1.0.zip"
      ],
      "metadata": {
        "id": "KemlnuhZ6aXM",
        "colab": {
          "base_uri": "https://localhost:8080/"
        },
        "outputId": "44ea4e3d-0c3c-45f4-c712-9f06fe8877ac"
      },
      "execution_count": 16,
      "outputs": [
        {
          "output_type": "stream",
          "name": "stdout",
          "text": [
            "--2023-01-25 04:53:15--  http://archive.ics.uci.edu/ml/machine-learning-databases/opinion/OpinosisDataset1.0.zip\n",
            "Resolving archive.ics.uci.edu (archive.ics.uci.edu)... 128.195.10.252\n",
            "Connecting to archive.ics.uci.edu (archive.ics.uci.edu)|128.195.10.252|:80... connected.\n",
            "HTTP request sent, awaiting response... 200 OK\n",
            "Length: 773840 (756K) [application/x-httpd-php]\n",
            "Saving to: ‘OpinosisDataset1.0.zip’\n",
            "\n",
            "\rOpinosisDataset1.0.   0%[                    ]       0  --.-KB/s               \rOpinosisDataset1.0. 100%[===================>] 755.70K  4.42MB/s    in 0.2s    \n",
            "\n",
            "2023-01-25 04:53:15 (4.42 MB/s) - ‘OpinosisDataset1.0.zip’ saved [773840/773840]\n",
            "\n"
          ]
        }
      ]
    },
    {
      "cell_type": "code",
      "source": [
        "!unzip OpinosisDataset1.0.zip"
      ],
      "metadata": {
        "id": "rvqVYYBH6gIl",
        "colab": {
          "base_uri": "https://localhost:8080/"
        },
        "outputId": "19874b0a-34f1-4d78-9bdf-0d83d4ca0f97"
      },
      "execution_count": 17,
      "outputs": [
        {
          "output_type": "stream",
          "name": "stdout",
          "text": [
            "Archive:  OpinosisDataset1.0.zip\n",
            "   creating: OpinosisDataset1.0/examples/\n",
            "   creating: OpinosisDataset1.0/examples/prepare4rouge/\n",
            "   creating: OpinosisDataset1.0/examples/prepare4rouge/input/\n",
            "   creating: OpinosisDataset1.0/examples/prepare4rouge/input/summaries-base/\n",
            "  inflating: OpinosisDataset1.0/examples/prepare4rouge/input/summaries-base/accuracy_garmin_nuvi_255W_gps.baseline  \n",
            "  inflating: OpinosisDataset1.0/examples/prepare4rouge/input/summaries-base/bathroom_bestwestern_hotel_sfo.baseline  \n",
            "   creating: OpinosisDataset1.0/examples/prepare4rouge/input/summaries-gold/\n",
            "   creating: OpinosisDataset1.0/examples/prepare4rouge/input/summaries-gold/accuracy_garmin_nuvi_255W_gps/\n",
            "  inflating: OpinosisDataset1.0/examples/prepare4rouge/input/summaries-gold/accuracy_garmin_nuvi_255W_gps/accuracy_garmin_nuvi_255W_gps.1.gold  \n",
            "  inflating: OpinosisDataset1.0/examples/prepare4rouge/input/summaries-gold/accuracy_garmin_nuvi_255W_gps/accuracy_garmin_nuvi_255W_gps.2.gold  \n",
            " extracting: OpinosisDataset1.0/examples/prepare4rouge/input/summaries-gold/accuracy_garmin_nuvi_255W_gps/accuracy_garmin_nuvi_255W_gps.3.gold  \n",
            "  inflating: OpinosisDataset1.0/examples/prepare4rouge/input/summaries-gold/accuracy_garmin_nuvi_255W_gps/accuracy_garmin_nuvi_255W_gps.4.gold  \n",
            "  inflating: OpinosisDataset1.0/examples/prepare4rouge/input/summaries-gold/accuracy_garmin_nuvi_255W_gps/accuracy_garmin_nuvi_255W_gps.5.gold  \n",
            "   creating: OpinosisDataset1.0/examples/prepare4rouge/input/summaries-gold/bathroom_bestwestern_hotel_sfo/\n",
            "  inflating: OpinosisDataset1.0/examples/prepare4rouge/input/summaries-gold/bathroom_bestwestern_hotel_sfo/bathroom_bestwestern_hotel_sfo.1.gold  \n",
            "  inflating: OpinosisDataset1.0/examples/prepare4rouge/input/summaries-gold/bathroom_bestwestern_hotel_sfo/bathroom_bestwestern_hotel_sfo.2.gold  \n",
            "  inflating: OpinosisDataset1.0/examples/prepare4rouge/input/summaries-gold/bathroom_bestwestern_hotel_sfo/bathroom_bestwestern_hotel_sfo.3.gold  \n",
            "  inflating: OpinosisDataset1.0/examples/prepare4rouge/input/summaries-gold/bathroom_bestwestern_hotel_sfo/bathroom_bestwestern_hotel_sfo.4.gold  \n",
            "  inflating: OpinosisDataset1.0/examples/prepare4rouge/input/summaries-gold/bathroom_bestwestern_hotel_sfo/bathroom_bestwestern_hotel_sfo.5.gold  \n",
            "   creating: OpinosisDataset1.0/examples/prepare4rouge/input/summaries-system/\n",
            "   creating: OpinosisDataset1.0/examples/prepare4rouge/input/summaries-system/G5S2R2_NOCOLLAPSE/\n",
            "  inflating: OpinosisDataset1.0/examples/prepare4rouge/input/summaries-system/G5S2R2_NOCOLLAPSE/accuracy_garmin_nuvi_255W_gps.G5S2R2_NOCOLLAPSE.system  \n",
            "  inflating: OpinosisDataset1.0/examples/prepare4rouge/input/summaries-system/G5S2R2_NOCOLLAPSE/bathroom_bestwestern_hotel_sfo.G5S2R2_NOCOLLAPSE.system  \n",
            "   creating: OpinosisDataset1.0/examples/prepare4rouge/input/summaries-system/G5S2R2_NOCOLLAPSE_NODUPELIM/\n",
            "  inflating: OpinosisDataset1.0/examples/prepare4rouge/input/summaries-system/G5S2R2_NOCOLLAPSE_NODUPELIM/accuracy_garmin_nuvi_255W_gps.G5S2R2_NOCOLLAPSE_NODUPELIM.system  \n",
            "  inflating: OpinosisDataset1.0/examples/prepare4rouge/input/summaries-system/G5S2R2_NOCOLLAPSE_NODUPELIM/bathroom_bestwestern_hotel_sfo.G5S2R2_NOCOLLAPSE_NODUPELIM.system  \n",
            "   creating: OpinosisDataset1.0/examples/prepare4rouge/input/summaries-system/G5S2R2_NODUPELIM/\n",
            "  inflating: OpinosisDataset1.0/examples/prepare4rouge/input/summaries-system/G5S2R2_NODUPELIM/accuracy_garmin_nuvi_255W_gps.G5S2R2_NODUPELIM.system  \n",
            "  inflating: OpinosisDataset1.0/examples/prepare4rouge/input/summaries-system/G5S2R2_NODUPELIM/bathroom_bestwestern_hotel_sfo.G5S2R2_NODUPELIM.system  \n",
            "   creating: OpinosisDataset1.0/examples/prepare4rouge/output/\n",
            "   creating: OpinosisDataset1.0/examples/prepare4rouge/output/models/\n",
            "  inflating: OpinosisDataset1.0/examples/prepare4rouge/output/models/accuracy_garmin_nuvi_255W_gps.1.gold.html  \n",
            "  inflating: OpinosisDataset1.0/examples/prepare4rouge/output/models/accuracy_garmin_nuvi_255W_gps.2.gold.html  \n",
            "  inflating: OpinosisDataset1.0/examples/prepare4rouge/output/models/accuracy_garmin_nuvi_255W_gps.3.gold.html  \n",
            "  inflating: OpinosisDataset1.0/examples/prepare4rouge/output/models/accuracy_garmin_nuvi_255W_gps.4.gold.html  \n",
            "  inflating: OpinosisDataset1.0/examples/prepare4rouge/output/models/accuracy_garmin_nuvi_255W_gps.5.gold.html  \n",
            "  inflating: OpinosisDataset1.0/examples/prepare4rouge/output/models/bathroom_bestwestern_hotel_sfo.1.gold.html  \n",
            "  inflating: OpinosisDataset1.0/examples/prepare4rouge/output/models/bathroom_bestwestern_hotel_sfo.2.gold.html  \n",
            "  inflating: OpinosisDataset1.0/examples/prepare4rouge/output/models/bathroom_bestwestern_hotel_sfo.3.gold.html  \n",
            "  inflating: OpinosisDataset1.0/examples/prepare4rouge/output/models/bathroom_bestwestern_hotel_sfo.4.gold.html  \n",
            "  inflating: OpinosisDataset1.0/examples/prepare4rouge/output/models/bathroom_bestwestern_hotel_sfo.5.gold.html  \n",
            "  inflating: OpinosisDataset1.0/examples/prepare4rouge/output/settings1.xml  \n",
            "  inflating: OpinosisDataset1.0/examples/prepare4rouge/output/settings2.xml  \n",
            "   creating: OpinosisDataset1.0/examples/prepare4rouge/output/systems/\n",
            "  inflating: OpinosisDataset1.0/examples/prepare4rouge/output/systems/accuracy_garmin_nuvi_255W_gps.baseline.html  \n",
            "  inflating: OpinosisDataset1.0/examples/prepare4rouge/output/systems/accuracy_garmin_nuvi_255W_gps.G5S2R2_NOCOLLAPSE.system.html  \n",
            "  inflating: OpinosisDataset1.0/examples/prepare4rouge/output/systems/accuracy_garmin_nuvi_255W_gps.G5S2R2_NOCOLLAPSE_NODUPELIM.system.html  \n",
            "  inflating: OpinosisDataset1.0/examples/prepare4rouge/output/systems/accuracy_garmin_nuvi_255W_gps.G5S2R2_NODUPELIM.system.html  \n",
            "  inflating: OpinosisDataset1.0/examples/prepare4rouge/output/systems/bathroom_bestwestern_hotel_sfo.baseline.html  \n",
            "  inflating: OpinosisDataset1.0/examples/prepare4rouge/output/systems/bathroom_bestwestern_hotel_sfo.G5S2R2_NOCOLLAPSE.system.html  \n",
            "  inflating: OpinosisDataset1.0/examples/prepare4rouge/output/systems/bathroom_bestwestern_hotel_sfo.G5S2R2_NOCOLLAPSE_NODUPELIM.system.html  \n",
            "  inflating: OpinosisDataset1.0/examples/prepare4rouge/output/systems/bathroom_bestwestern_hotel_sfo.G5S2R2_NODUPELIM.system.html  \n",
            "   creating: OpinosisDataset1.0/scripts/\n",
            "   creating: OpinosisDataset1.0/scripts/mead/\n",
            "  inflating: OpinosisDataset1.0/scripts/mead/doc2mead.pl  \n",
            "  inflating: OpinosisDataset1.0/scripts/mead/mead2summary.pl  \n",
            "   creating: OpinosisDataset1.0/scripts/rouge/\n",
            "  inflating: OpinosisDataset1.0/scripts/rouge/prepare4rouge.pl  \n",
            "  inflating: OpinosisDataset1.0/scripts/rouge/rouge2csv.pl  \n",
            "   creating: OpinosisDataset1.0/summaries-gold/\n",
            "   creating: OpinosisDataset1.0/summaries-gold/accuracy_garmin_nuvi_255W_gps/\n",
            "  inflating: OpinosisDataset1.0/summaries-gold/accuracy_garmin_nuvi_255W_gps/accuracy_garmin_nuvi_255W_gps.1.gold  \n",
            "  inflating: OpinosisDataset1.0/summaries-gold/accuracy_garmin_nuvi_255W_gps/accuracy_garmin_nuvi_255W_gps.2.gold  \n",
            " extracting: OpinosisDataset1.0/summaries-gold/accuracy_garmin_nuvi_255W_gps/accuracy_garmin_nuvi_255W_gps.3.gold  \n",
            "  inflating: OpinosisDataset1.0/summaries-gold/accuracy_garmin_nuvi_255W_gps/accuracy_garmin_nuvi_255W_gps.4.gold  \n",
            "  inflating: OpinosisDataset1.0/summaries-gold/accuracy_garmin_nuvi_255W_gps/accuracy_garmin_nuvi_255W_gps.5.gold  \n",
            "   creating: OpinosisDataset1.0/summaries-gold/bathroom_bestwestern_hotel_sfo/\n",
            "  inflating: OpinosisDataset1.0/summaries-gold/bathroom_bestwestern_hotel_sfo/bathroom_bestwestern_hotel_sfo.1.gold  \n",
            "  inflating: OpinosisDataset1.0/summaries-gold/bathroom_bestwestern_hotel_sfo/bathroom_bestwestern_hotel_sfo.2.gold  \n",
            "  inflating: OpinosisDataset1.0/summaries-gold/bathroom_bestwestern_hotel_sfo/bathroom_bestwestern_hotel_sfo.3.gold  \n",
            "  inflating: OpinosisDataset1.0/summaries-gold/bathroom_bestwestern_hotel_sfo/bathroom_bestwestern_hotel_sfo.4.gold  \n",
            "  inflating: OpinosisDataset1.0/summaries-gold/bathroom_bestwestern_hotel_sfo/bathroom_bestwestern_hotel_sfo.5.gold  \n",
            "   creating: OpinosisDataset1.0/summaries-gold/battery-life_amazon_kindle/\n",
            "  inflating: OpinosisDataset1.0/summaries-gold/battery-life_amazon_kindle/battery-life_amazon_kindle.1.gold  \n",
            "  inflating: OpinosisDataset1.0/summaries-gold/battery-life_amazon_kindle/battery-life_amazon_kindle.2.gold  \n",
            "  inflating: OpinosisDataset1.0/summaries-gold/battery-life_amazon_kindle/battery-life_amazon_kindle.3.gold  \n",
            "  inflating: OpinosisDataset1.0/summaries-gold/battery-life_amazon_kindle/battery-life_amazon_kindle.4.gold  \n",
            "  inflating: OpinosisDataset1.0/summaries-gold/battery-life_amazon_kindle/battery-life_amazon_kindle.5.gold  \n",
            "   creating: OpinosisDataset1.0/summaries-gold/battery-life_ipod_nano_8gb/\n",
            "  inflating: OpinosisDataset1.0/summaries-gold/battery-life_ipod_nano_8gb/battery-life_ipod_nano_8gb.1.gold  \n",
            "  inflating: OpinosisDataset1.0/summaries-gold/battery-life_ipod_nano_8gb/battery-life_ipod_nano_8gb.2.gold  \n",
            "  inflating: OpinosisDataset1.0/summaries-gold/battery-life_ipod_nano_8gb/battery-life_ipod_nano_8gb.3.gold  \n",
            "  inflating: OpinosisDataset1.0/summaries-gold/battery-life_ipod_nano_8gb/battery-life_ipod_nano_8gb.4.gold  \n",
            " extracting: OpinosisDataset1.0/summaries-gold/battery-life_ipod_nano_8gb/battery-life_ipod_nano_8gb.5.gold  \n",
            "   creating: OpinosisDataset1.0/summaries-gold/battery-life_netbook_1005ha/\n",
            "  inflating: OpinosisDataset1.0/summaries-gold/battery-life_netbook_1005ha/battery-life_netbook_1005ha.1.gold  \n",
            "  inflating: OpinosisDataset1.0/summaries-gold/battery-life_netbook_1005ha/battery-life_netbook_1005ha.2.gold  \n",
            "  inflating: OpinosisDataset1.0/summaries-gold/battery-life_netbook_1005ha/battery-life_netbook_1005ha.3.gold  \n",
            "  inflating: OpinosisDataset1.0/summaries-gold/battery-life_netbook_1005ha/battery-life_netbook_1005ha.4.gold  \n",
            "  inflating: OpinosisDataset1.0/summaries-gold/battery-life_netbook_1005ha/battery-life_netbook_1005ha.5.gold  \n",
            "   creating: OpinosisDataset1.0/summaries-gold/buttons_amazon_kindle/\n",
            "  inflating: OpinosisDataset1.0/summaries-gold/buttons_amazon_kindle/buttons_amazon_kindle.1.gold  \n",
            "  inflating: OpinosisDataset1.0/summaries-gold/buttons_amazon_kindle/buttons_amazon_kindle.2.gold  \n",
            "  inflating: OpinosisDataset1.0/summaries-gold/buttons_amazon_kindle/buttons_amazon_kindle.3.gold  \n",
            "  inflating: OpinosisDataset1.0/summaries-gold/buttons_amazon_kindle/buttons_amazon_kindle.4.gold  \n",
            "   creating: OpinosisDataset1.0/summaries-gold/comfort_honda_accord_2008/\n",
            "  inflating: OpinosisDataset1.0/summaries-gold/comfort_honda_accord_2008/comfort_honda_accord_2008.1.gold  \n",
            "  inflating: OpinosisDataset1.0/summaries-gold/comfort_honda_accord_2008/comfort_honda_accord_2008.2.gold  \n",
            "  inflating: OpinosisDataset1.0/summaries-gold/comfort_honda_accord_2008/comfort_honda_accord_2008.3.gold  \n",
            "  inflating: OpinosisDataset1.0/summaries-gold/comfort_honda_accord_2008/comfort_honda_accord_2008.4.gold  \n",
            "  inflating: OpinosisDataset1.0/summaries-gold/comfort_honda_accord_2008/comfort_honda_accord_2008.5.gold  \n",
            "   creating: OpinosisDataset1.0/summaries-gold/comfort_toyota_camry_2007/\n",
            "  inflating: OpinosisDataset1.0/summaries-gold/comfort_toyota_camry_2007/comfort_toyota_camry_2007.1.gold  \n",
            "  inflating: OpinosisDataset1.0/summaries-gold/comfort_toyota_camry_2007/comfort_toyota_camry_2007.2.gold  \n",
            "  inflating: OpinosisDataset1.0/summaries-gold/comfort_toyota_camry_2007/comfort_toyota_camry_2007.3.gold  \n",
            " extracting: OpinosisDataset1.0/summaries-gold/comfort_toyota_camry_2007/comfort_toyota_camry_2007.4.gold  \n",
            "  inflating: OpinosisDataset1.0/summaries-gold/comfort_toyota_camry_2007/comfort_toyota_camry_2007.5.gold  \n",
            "   creating: OpinosisDataset1.0/summaries-gold/directions_garmin_nuvi_255W_gps/\n",
            "  inflating: OpinosisDataset1.0/summaries-gold/directions_garmin_nuvi_255W_gps/directions_garmin_nuvi_255W_gps.1.gold  \n",
            "  inflating: OpinosisDataset1.0/summaries-gold/directions_garmin_nuvi_255W_gps/directions_garmin_nuvi_255W_gps.2.gold  \n",
            "  inflating: OpinosisDataset1.0/summaries-gold/directions_garmin_nuvi_255W_gps/directions_garmin_nuvi_255W_gps.3.gold  \n",
            "  inflating: OpinosisDataset1.0/summaries-gold/directions_garmin_nuvi_255W_gps/directions_garmin_nuvi_255W_gps.4.gold  \n",
            "  inflating: OpinosisDataset1.0/summaries-gold/directions_garmin_nuvi_255W_gps/directions_garmin_nuvi_255W_gps.5.gold  \n",
            "   creating: OpinosisDataset1.0/summaries-gold/display_garmin_nuvi_255W_gps/\n",
            "  inflating: OpinosisDataset1.0/summaries-gold/display_garmin_nuvi_255W_gps/display_garmin_nuvi_255W_gps.1.gold  \n",
            "  inflating: OpinosisDataset1.0/summaries-gold/display_garmin_nuvi_255W_gps/display_garmin_nuvi_255W_gps.2.gold  \n",
            "  inflating: OpinosisDataset1.0/summaries-gold/display_garmin_nuvi_255W_gps/display_garmin_nuvi_255W_gps.3.gold  \n",
            "  inflating: OpinosisDataset1.0/summaries-gold/display_garmin_nuvi_255W_gps/display_garmin_nuvi_255W_gps.4.gold  \n",
            "  inflating: OpinosisDataset1.0/summaries-gold/display_garmin_nuvi_255W_gps/display_garmin_nuvi_255W_gps.5.gold  \n",
            "   creating: OpinosisDataset1.0/summaries-gold/eyesight-issues_amazon_kindle/\n",
            "  inflating: OpinosisDataset1.0/summaries-gold/eyesight-issues_amazon_kindle/eyesight-issues_amazon_kindle.1.gold  \n",
            "  inflating: OpinosisDataset1.0/summaries-gold/eyesight-issues_amazon_kindle/eyesight-issues_amazon_kindle.2.gold  \n",
            " extracting: OpinosisDataset1.0/summaries-gold/eyesight-issues_amazon_kindle/eyesight-issues_amazon_kindle.3.gold  \n",
            "  inflating: OpinosisDataset1.0/summaries-gold/eyesight-issues_amazon_kindle/eyesight-issues_amazon_kindle.4.gold  \n",
            "  inflating: OpinosisDataset1.0/summaries-gold/eyesight-issues_amazon_kindle/eyesight-issues_amazon_kindle.5.gold  \n",
            "   creating: OpinosisDataset1.0/summaries-gold/features_windows7/\n",
            "  inflating: OpinosisDataset1.0/summaries-gold/features_windows7/features_windows7.1.gold  \n",
            " extracting: OpinosisDataset1.0/summaries-gold/features_windows7/features_windows7.2.gold  \n",
            " extracting: OpinosisDataset1.0/summaries-gold/features_windows7/features_windows7.3.gold  \n",
            "  inflating: OpinosisDataset1.0/summaries-gold/features_windows7/features_windows7.4.gold  \n",
            "   creating: OpinosisDataset1.0/summaries-gold/fonts_amazon_kindle/\n",
            "  inflating: OpinosisDataset1.0/summaries-gold/fonts_amazon_kindle/fonts_amazon_kindle.1.gold  \n",
            "  inflating: OpinosisDataset1.0/summaries-gold/fonts_amazon_kindle/fonts_amazon_kindle.2.gold  \n",
            "  inflating: OpinosisDataset1.0/summaries-gold/fonts_amazon_kindle/fonts_amazon_kindle.3.gold  \n",
            " extracting: OpinosisDataset1.0/summaries-gold/fonts_amazon_kindle/fonts_amazon_kindle.4.gold  \n",
            "   creating: OpinosisDataset1.0/summaries-gold/food_holiday_inn_london/\n",
            "  inflating: OpinosisDataset1.0/summaries-gold/food_holiday_inn_london/food_holiday_inn_london.1.gold  \n",
            "  inflating: OpinosisDataset1.0/summaries-gold/food_holiday_inn_london/food_holiday_inn_london.2.gold  \n",
            "  inflating: OpinosisDataset1.0/summaries-gold/food_holiday_inn_london/food_holiday_inn_london.3.gold  \n",
            "  inflating: OpinosisDataset1.0/summaries-gold/food_holiday_inn_london/food_holiday_inn_london.4.gold  \n",
            "   creating: OpinosisDataset1.0/summaries-gold/food_swissotel_chicago/\n",
            "  inflating: OpinosisDataset1.0/summaries-gold/food_swissotel_chicago/food_swissotel_chicago.1.gold  \n",
            "  inflating: OpinosisDataset1.0/summaries-gold/food_swissotel_chicago/food_swissotel_chicago.2.gold  \n",
            "  inflating: OpinosisDataset1.0/summaries-gold/food_swissotel_chicago/food_swissotel_chicago.3.gold  \n",
            " extracting: OpinosisDataset1.0/summaries-gold/food_swissotel_chicago/food_swissotel_chicago.4.gold  \n",
            "  inflating: OpinosisDataset1.0/summaries-gold/food_swissotel_chicago/food_swissotel_chicago.5.gold  \n",
            "   creating: OpinosisDataset1.0/summaries-gold/free_bestwestern_hotel_sfo/\n",
            "  inflating: OpinosisDataset1.0/summaries-gold/free_bestwestern_hotel_sfo/free_bestwestern_hotel_sfo.1.gold  \n",
            "  inflating: OpinosisDataset1.0/summaries-gold/free_bestwestern_hotel_sfo/free_bestwestern_hotel_sfo.2.gold  \n",
            "  inflating: OpinosisDataset1.0/summaries-gold/free_bestwestern_hotel_sfo/free_bestwestern_hotel_sfo.3.gold  \n",
            "  inflating: OpinosisDataset1.0/summaries-gold/free_bestwestern_hotel_sfo/free_bestwestern_hotel_sfo.4.gold  \n",
            "  inflating: OpinosisDataset1.0/summaries-gold/free_bestwestern_hotel_sfo/free_bestwestern_hotel_sfo.5.gold  \n",
            "   creating: OpinosisDataset1.0/summaries-gold/gas_mileage_toyota_camry_2007/\n",
            "  inflating: OpinosisDataset1.0/summaries-gold/gas_mileage_toyota_camry_2007/gas_mileage_toyota_camry_2007.1.gold  \n",
            "  inflating: OpinosisDataset1.0/summaries-gold/gas_mileage_toyota_camry_2007/gas_mileage_toyota_camry_2007.2.gold  \n",
            " extracting: OpinosisDataset1.0/summaries-gold/gas_mileage_toyota_camry_2007/gas_mileage_toyota_camry_2007.3.gold  \n",
            "  inflating: OpinosisDataset1.0/summaries-gold/gas_mileage_toyota_camry_2007/gas_mileage_toyota_camry_2007.4.gold  \n",
            "  inflating: OpinosisDataset1.0/summaries-gold/gas_mileage_toyota_camry_2007/gas_mileage_toyota_camry_2007.5.gold  \n",
            "   creating: OpinosisDataset1.0/summaries-gold/interior_honda_accord_2008/\n",
            "  inflating: OpinosisDataset1.0/summaries-gold/interior_honda_accord_2008/interior_honda_accord_2008.1.gold  \n",
            "  inflating: OpinosisDataset1.0/summaries-gold/interior_honda_accord_2008/interior_honda_accord_2008.2.gold  \n",
            "  inflating: OpinosisDataset1.0/summaries-gold/interior_honda_accord_2008/interior_honda_accord_2008.3.gold  \n",
            "  inflating: OpinosisDataset1.0/summaries-gold/interior_honda_accord_2008/interior_honda_accord_2008.4.gold  \n",
            " extracting: OpinosisDataset1.0/summaries-gold/interior_honda_accord_2008/interior_honda_accord_2008.5.gold  \n",
            "   creating: OpinosisDataset1.0/summaries-gold/interior_toyota_camry_2007/\n",
            "  inflating: OpinosisDataset1.0/summaries-gold/interior_toyota_camry_2007/interior_toyota_camry_2007.1.gold  \n",
            "  inflating: OpinosisDataset1.0/summaries-gold/interior_toyota_camry_2007/interior_toyota_camry_2007.2.gold  \n",
            " extracting: OpinosisDataset1.0/summaries-gold/interior_toyota_camry_2007/interior_toyota_camry_2007.3.gold  \n",
            " extracting: OpinosisDataset1.0/summaries-gold/interior_toyota_camry_2007/interior_toyota_camry_2007.4.gold  \n",
            "  inflating: OpinosisDataset1.0/summaries-gold/interior_toyota_camry_2007/interior_toyota_camry_2007.5.gold  \n",
            "   creating: OpinosisDataset1.0/summaries-gold/keyboard_netbook_1005ha/\n",
            "  inflating: OpinosisDataset1.0/summaries-gold/keyboard_netbook_1005ha/keyboard_netbook_1005ha.1.gold  \n",
            "  inflating: OpinosisDataset1.0/summaries-gold/keyboard_netbook_1005ha/keyboard_netbook_1005ha.2.gold  \n",
            " extracting: OpinosisDataset1.0/summaries-gold/keyboard_netbook_1005ha/keyboard_netbook_1005ha.3.gold  \n",
            "  inflating: OpinosisDataset1.0/summaries-gold/keyboard_netbook_1005ha/keyboard_netbook_1005ha.4.gold  \n",
            "  inflating: OpinosisDataset1.0/summaries-gold/keyboard_netbook_1005ha/keyboard_netbook_1005ha.5.gold  \n",
            "   creating: OpinosisDataset1.0/summaries-gold/location_bestwestern_hotel_sfo/\n",
            "  inflating: OpinosisDataset1.0/summaries-gold/location_bestwestern_hotel_sfo/location_bestwestern_hotel_sfo.1.gold  \n",
            "  inflating: OpinosisDataset1.0/summaries-gold/location_bestwestern_hotel_sfo/location_bestwestern_hotel_sfo.2.gold  \n",
            "  inflating: OpinosisDataset1.0/summaries-gold/location_bestwestern_hotel_sfo/location_bestwestern_hotel_sfo.3.gold  \n",
            " extracting: OpinosisDataset1.0/summaries-gold/location_bestwestern_hotel_sfo/location_bestwestern_hotel_sfo.4.gold  \n",
            "  inflating: OpinosisDataset1.0/summaries-gold/location_bestwestern_hotel_sfo/location_bestwestern_hotel_sfo.5.gold  \n",
            "   creating: OpinosisDataset1.0/summaries-gold/location_holiday_inn_london/\n",
            " extracting: OpinosisDataset1.0/summaries-gold/location_holiday_inn_london/location_holiday_inn_london.1.gold  \n",
            "  inflating: OpinosisDataset1.0/summaries-gold/location_holiday_inn_london/location_holiday_inn_london.2.gold  \n",
            "  inflating: OpinosisDataset1.0/summaries-gold/location_holiday_inn_london/location_holiday_inn_london.3.gold  \n",
            "  inflating: OpinosisDataset1.0/summaries-gold/location_holiday_inn_london/location_holiday_inn_london.4.gold  \n",
            "   creating: OpinosisDataset1.0/summaries-gold/mileage_honda_accord_2008/\n",
            "  inflating: OpinosisDataset1.0/summaries-gold/mileage_honda_accord_2008/mileage_honda_accord_2008.1.gold  \n",
            "  inflating: OpinosisDataset1.0/summaries-gold/mileage_honda_accord_2008/mileage_honda_accord_2008.2.gold  \n",
            " extracting: OpinosisDataset1.0/summaries-gold/mileage_honda_accord_2008/mileage_honda_accord_2008.3.gold  \n",
            "  inflating: OpinosisDataset1.0/summaries-gold/mileage_honda_accord_2008/mileage_honda_accord_2008.4.gold  \n",
            "  inflating: OpinosisDataset1.0/summaries-gold/mileage_honda_accord_2008/mileage_honda_accord_2008.5.gold  \n",
            "   creating: OpinosisDataset1.0/summaries-gold/navigation_amazon_kindle/\n",
            "  inflating: OpinosisDataset1.0/summaries-gold/navigation_amazon_kindle/navigation_amazon_kindle.1.gold  \n",
            "  inflating: OpinosisDataset1.0/summaries-gold/navigation_amazon_kindle/navigation_amazon_kindle.2.gold  \n",
            " extracting: OpinosisDataset1.0/summaries-gold/navigation_amazon_kindle/navigation_amazon_kindle.3.gold  \n",
            "  inflating: OpinosisDataset1.0/summaries-gold/navigation_amazon_kindle/navigation_amazon_kindle.4.gold  \n",
            "   creating: OpinosisDataset1.0/summaries-gold/parking_bestwestern_hotel_sfo/\n",
            "  inflating: OpinosisDataset1.0/summaries-gold/parking_bestwestern_hotel_sfo/parking_bestwestern_hotel_sfo.1.gold  \n",
            "  inflating: OpinosisDataset1.0/summaries-gold/parking_bestwestern_hotel_sfo/parking_bestwestern_hotel_sfo.2.gold  \n",
            "  inflating: OpinosisDataset1.0/summaries-gold/parking_bestwestern_hotel_sfo/parking_bestwestern_hotel_sfo.3.gold  \n",
            "  inflating: OpinosisDataset1.0/summaries-gold/parking_bestwestern_hotel_sfo/parking_bestwestern_hotel_sfo.4.gold  \n",
            "   creating: OpinosisDataset1.0/summaries-gold/performance_honda_accord_2008/\n",
            "  inflating: OpinosisDataset1.0/summaries-gold/performance_honda_accord_2008/performance_honda_accord_2008.1.gold  \n",
            " extracting: OpinosisDataset1.0/summaries-gold/performance_honda_accord_2008/performance_honda_accord_2008.2.gold  \n",
            "  inflating: OpinosisDataset1.0/summaries-gold/performance_honda_accord_2008/performance_honda_accord_2008.3.gold  \n",
            " extracting: OpinosisDataset1.0/summaries-gold/performance_honda_accord_2008/performance_honda_accord_2008.4.gold  \n",
            "   creating: OpinosisDataset1.0/summaries-gold/performance_netbook_1005ha/\n",
            "  inflating: OpinosisDataset1.0/summaries-gold/performance_netbook_1005ha/performance_netbook_1005ha.1.gold  \n",
            "  inflating: OpinosisDataset1.0/summaries-gold/performance_netbook_1005ha/performance_netbook_1005ha.2.gold  \n",
            "  inflating: OpinosisDataset1.0/summaries-gold/performance_netbook_1005ha/performance_netbook_1005ha.3.gold  \n",
            "  inflating: OpinosisDataset1.0/summaries-gold/performance_netbook_1005ha/performance_netbook_1005ha.4.gold  \n",
            "  inflating: OpinosisDataset1.0/summaries-gold/performance_netbook_1005ha/performance_netbook_1005ha.5.gold  \n",
            "   creating: OpinosisDataset1.0/summaries-gold/price_amazon_kindle/\n",
            "  inflating: OpinosisDataset1.0/summaries-gold/price_amazon_kindle/price_amazon_kindle.1.gold  \n",
            "  inflating: OpinosisDataset1.0/summaries-gold/price_amazon_kindle/price_amazon_kindle.2.gold  \n",
            "  inflating: OpinosisDataset1.0/summaries-gold/price_amazon_kindle/price_amazon_kindle.3.gold  \n",
            "  inflating: OpinosisDataset1.0/summaries-gold/price_amazon_kindle/price_amazon_kindle.4.gold  \n",
            "  inflating: OpinosisDataset1.0/summaries-gold/price_amazon_kindle/price_amazon_kindle.5.gold  \n",
            "   creating: OpinosisDataset1.0/summaries-gold/price_holiday_inn_london/\n",
            "  inflating: OpinosisDataset1.0/summaries-gold/price_holiday_inn_london/price_holiday_inn_london.1.gold  \n",
            "  inflating: OpinosisDataset1.0/summaries-gold/price_holiday_inn_london/price_holiday_inn_london.2.gold  \n",
            "  inflating: OpinosisDataset1.0/summaries-gold/price_holiday_inn_london/price_holiday_inn_london.3.gold  \n",
            "  inflating: OpinosisDataset1.0/summaries-gold/price_holiday_inn_london/price_holiday_inn_london.4.gold  \n",
            " extracting: OpinosisDataset1.0/summaries-gold/price_holiday_inn_london/price_holiday_inn_london.5.gold  \n",
            "   creating: OpinosisDataset1.0/summaries-gold/quality_toyota_camry_2007/\n",
            "  inflating: OpinosisDataset1.0/summaries-gold/quality_toyota_camry_2007/quality_toyota_camry_2007.1.gold  \n",
            "  inflating: OpinosisDataset1.0/summaries-gold/quality_toyota_camry_2007/quality_toyota_camry_2007.2.gold  \n",
            "  inflating: OpinosisDataset1.0/summaries-gold/quality_toyota_camry_2007/quality_toyota_camry_2007.3.gold  \n",
            " extracting: OpinosisDataset1.0/summaries-gold/quality_toyota_camry_2007/quality_toyota_camry_2007.4.gold  \n",
            "   creating: OpinosisDataset1.0/summaries-gold/room_holiday_inn_london/\n",
            "  inflating: OpinosisDataset1.0/summaries-gold/room_holiday_inn_london/room_holiday_inn_london.1.gold  \n",
            "  inflating: OpinosisDataset1.0/summaries-gold/room_holiday_inn_london/room_holiday_inn_london.2.gold  \n",
            " extracting: OpinosisDataset1.0/summaries-gold/room_holiday_inn_london/room_holiday_inn_london.3.gold  \n",
            "  inflating: OpinosisDataset1.0/summaries-gold/room_holiday_inn_london/room_holiday_inn_london.4.gold  \n",
            "   creating: OpinosisDataset1.0/summaries-gold/rooms_bestwestern_hotel_sfo/\n",
            " extracting: OpinosisDataset1.0/summaries-gold/rooms_bestwestern_hotel_sfo/rooms_bestwestern_hotel_sfo.1.gold  \n",
            "  inflating: OpinosisDataset1.0/summaries-gold/rooms_bestwestern_hotel_sfo/rooms_bestwestern_hotel_sfo.2.gold  \n",
            "  inflating: OpinosisDataset1.0/summaries-gold/rooms_bestwestern_hotel_sfo/rooms_bestwestern_hotel_sfo.3.gold  \n",
            "  inflating: OpinosisDataset1.0/summaries-gold/rooms_bestwestern_hotel_sfo/rooms_bestwestern_hotel_sfo.4.gold  \n",
            "  inflating: OpinosisDataset1.0/summaries-gold/rooms_bestwestern_hotel_sfo/rooms_bestwestern_hotel_sfo.5.gold  \n",
            "   creating: OpinosisDataset1.0/summaries-gold/rooms_swissotel_chicago/\n",
            "  inflating: OpinosisDataset1.0/summaries-gold/rooms_swissotel_chicago/rooms_swissotel_chicago.1.gold  \n",
            " extracting: OpinosisDataset1.0/summaries-gold/rooms_swissotel_chicago/rooms_swissotel_chicago.2.gold  \n",
            "  inflating: OpinosisDataset1.0/summaries-gold/rooms_swissotel_chicago/rooms_swissotel_chicago.3.gold  \n",
            "  inflating: OpinosisDataset1.0/summaries-gold/rooms_swissotel_chicago/rooms_swissotel_chicago.4.gold  \n",
            "   creating: OpinosisDataset1.0/summaries-gold/satellite_garmin_nuvi_255W_gps/\n",
            "  inflating: OpinosisDataset1.0/summaries-gold/satellite_garmin_nuvi_255W_gps/satellite_garmin_nuvi_255W_gps.1.gold  \n",
            "  inflating: OpinosisDataset1.0/summaries-gold/satellite_garmin_nuvi_255W_gps/satellite_garmin_nuvi_255W_gps.2.gold  \n",
            " extracting: OpinosisDataset1.0/summaries-gold/satellite_garmin_nuvi_255W_gps/satellite_garmin_nuvi_255W_gps.3.gold  \n",
            "  inflating: OpinosisDataset1.0/summaries-gold/satellite_garmin_nuvi_255W_gps/satellite_garmin_nuvi_255W_gps.4.gold  \n",
            "  inflating: OpinosisDataset1.0/summaries-gold/satellite_garmin_nuvi_255W_gps/satellite_garmin_nuvi_255W_gps.5.gold  \n",
            "   creating: OpinosisDataset1.0/summaries-gold/screen_garmin_nuvi_255W_gps/\n",
            "  inflating: OpinosisDataset1.0/summaries-gold/screen_garmin_nuvi_255W_gps/screen_garmin_nuvi_255W_gps.1.gold  \n",
            "  inflating: OpinosisDataset1.0/summaries-gold/screen_garmin_nuvi_255W_gps/screen_garmin_nuvi_255W_gps.2.gold  \n",
            "  inflating: OpinosisDataset1.0/summaries-gold/screen_garmin_nuvi_255W_gps/screen_garmin_nuvi_255W_gps.3.gold  \n",
            "  inflating: OpinosisDataset1.0/summaries-gold/screen_garmin_nuvi_255W_gps/screen_garmin_nuvi_255W_gps.4.gold  \n",
            "  inflating: OpinosisDataset1.0/summaries-gold/screen_garmin_nuvi_255W_gps/screen_garmin_nuvi_255W_gps.5.gold  \n",
            "   creating: OpinosisDataset1.0/summaries-gold/screen_ipod_nano_8gb/\n",
            "  inflating: OpinosisDataset1.0/summaries-gold/screen_ipod_nano_8gb/screen_ipod_nano_8gb.1.gold  \n",
            "  inflating: OpinosisDataset1.0/summaries-gold/screen_ipod_nano_8gb/screen_ipod_nano_8gb.2.gold  \n",
            "  inflating: OpinosisDataset1.0/summaries-gold/screen_ipod_nano_8gb/screen_ipod_nano_8gb.3.gold  \n",
            "  inflating: OpinosisDataset1.0/summaries-gold/screen_ipod_nano_8gb/screen_ipod_nano_8gb.4.gold  \n",
            "   creating: OpinosisDataset1.0/summaries-gold/screen_netbook_1005ha/\n",
            "  inflating: OpinosisDataset1.0/summaries-gold/screen_netbook_1005ha/screen_netbook_1005ha.1.gold  \n",
            "  inflating: OpinosisDataset1.0/summaries-gold/screen_netbook_1005ha/screen_netbook_1005ha.2.gold  \n",
            " extracting: OpinosisDataset1.0/summaries-gold/screen_netbook_1005ha/screen_netbook_1005ha.3.gold  \n",
            "  inflating: OpinosisDataset1.0/summaries-gold/screen_netbook_1005ha/screen_netbook_1005ha.4.gold  \n",
            "   creating: OpinosisDataset1.0/summaries-gold/seats_honda_accord_2008/\n",
            "  inflating: OpinosisDataset1.0/summaries-gold/seats_honda_accord_2008/seats_honda_accord_2008.1.gold  \n",
            "  inflating: OpinosisDataset1.0/summaries-gold/seats_honda_accord_2008/seats_honda_accord_2008.2.gold  \n",
            "  inflating: OpinosisDataset1.0/summaries-gold/seats_honda_accord_2008/seats_honda_accord_2008.3.gold  \n",
            "  inflating: OpinosisDataset1.0/summaries-gold/seats_honda_accord_2008/seats_honda_accord_2008.4.gold  \n",
            "  inflating: OpinosisDataset1.0/summaries-gold/seats_honda_accord_2008/seats_honda_accord_2008.5.gold  \n",
            "   creating: OpinosisDataset1.0/summaries-gold/service_bestwestern_hotel_sfo/\n",
            "  inflating: OpinosisDataset1.0/summaries-gold/service_bestwestern_hotel_sfo/service_bestwestern_hotel_sfo.1.gold  \n",
            "  inflating: OpinosisDataset1.0/summaries-gold/service_bestwestern_hotel_sfo/service_bestwestern_hotel_sfo.2.gold  \n",
            "  inflating: OpinosisDataset1.0/summaries-gold/service_bestwestern_hotel_sfo/service_bestwestern_hotel_sfo.3.gold  \n",
            "  inflating: OpinosisDataset1.0/summaries-gold/service_bestwestern_hotel_sfo/service_bestwestern_hotel_sfo.4.gold  \n",
            "  inflating: OpinosisDataset1.0/summaries-gold/service_bestwestern_hotel_sfo/service_bestwestern_hotel_sfo.5.gold  \n",
            "   creating: OpinosisDataset1.0/summaries-gold/service_holiday_inn_london/\n",
            "  inflating: OpinosisDataset1.0/summaries-gold/service_holiday_inn_london/service_holiday_inn_london.1.gold  \n",
            "  inflating: OpinosisDataset1.0/summaries-gold/service_holiday_inn_london/service_holiday_inn_london.2.gold  \n",
            " extracting: OpinosisDataset1.0/summaries-gold/service_holiday_inn_london/service_holiday_inn_london.3.gold  \n",
            "  inflating: OpinosisDataset1.0/summaries-gold/service_holiday_inn_london/service_holiday_inn_london.4.gold  \n",
            "   creating: OpinosisDataset1.0/summaries-gold/service_swissotel_hotel_chicago/\n",
            "  inflating: OpinosisDataset1.0/summaries-gold/service_swissotel_hotel_chicago/service_swissotel_hotel_chicago.1.gold  \n",
            "  inflating: OpinosisDataset1.0/summaries-gold/service_swissotel_hotel_chicago/service_swissotel_hotel_chicago.2.gold  \n",
            "  inflating: OpinosisDataset1.0/summaries-gold/service_swissotel_hotel_chicago/service_swissotel_hotel_chicago.3.gold  \n",
            "  inflating: OpinosisDataset1.0/summaries-gold/service_swissotel_hotel_chicago/service_swissotel_hotel_chicago.4.gold  \n",
            "   creating: OpinosisDataset1.0/summaries-gold/size_asus_netbook_1005ha/\n",
            "  inflating: OpinosisDataset1.0/summaries-gold/size_asus_netbook_1005ha/size_asus_netbook_1005ha.1.gold  \n",
            "  inflating: OpinosisDataset1.0/summaries-gold/size_asus_netbook_1005ha/size_asus_netbook_1005ha.2.gold  \n",
            "  inflating: OpinosisDataset1.0/summaries-gold/size_asus_netbook_1005ha/size_asus_netbook_1005ha.3.gold  \n",
            "  inflating: OpinosisDataset1.0/summaries-gold/size_asus_netbook_1005ha/size_asus_netbook_1005ha.4.gold  \n",
            "  inflating: OpinosisDataset1.0/summaries-gold/size_asus_netbook_1005ha/size_asus_netbook_1005ha.5.gold  \n",
            "   creating: OpinosisDataset1.0/summaries-gold/sound_ipod_nano_8gb/\n",
            " extracting: OpinosisDataset1.0/summaries-gold/sound_ipod_nano_8gb/sound_ipod_nano_8gb.1.gold  \n",
            "  inflating: OpinosisDataset1.0/summaries-gold/sound_ipod_nano_8gb/sound_ipod_nano_8gb.2.gold  \n",
            " extracting: OpinosisDataset1.0/summaries-gold/sound_ipod_nano_8gb/sound_ipod_nano_8gb.3.gold  \n",
            "  inflating: OpinosisDataset1.0/summaries-gold/sound_ipod_nano_8gb/sound_ipod_nano_8gb.4.gold  \n",
            "  inflating: OpinosisDataset1.0/summaries-gold/sound_ipod_nano_8gb/sound_ipod_nano_8gb.5.gold  \n",
            "   creating: OpinosisDataset1.0/summaries-gold/speed_garmin_nuvi_255W_gps/\n",
            "  inflating: OpinosisDataset1.0/summaries-gold/speed_garmin_nuvi_255W_gps/speed_garmin_nuvi_255W_gps.1.gold  \n",
            "  inflating: OpinosisDataset1.0/summaries-gold/speed_garmin_nuvi_255W_gps/speed_garmin_nuvi_255W_gps.2.gold  \n",
            "  inflating: OpinosisDataset1.0/summaries-gold/speed_garmin_nuvi_255W_gps/speed_garmin_nuvi_255W_gps.3.gold  \n",
            "  inflating: OpinosisDataset1.0/summaries-gold/speed_garmin_nuvi_255W_gps/speed_garmin_nuvi_255W_gps.4.gold  \n",
            "  inflating: OpinosisDataset1.0/summaries-gold/speed_garmin_nuvi_255W_gps/speed_garmin_nuvi_255W_gps.5.gold  \n",
            "   creating: OpinosisDataset1.0/summaries-gold/speed_windows7/\n",
            "  inflating: OpinosisDataset1.0/summaries-gold/speed_windows7/speed_windows7.1.gold  \n",
            "  inflating: OpinosisDataset1.0/summaries-gold/speed_windows7/speed_windows7.2.gold  \n",
            "  inflating: OpinosisDataset1.0/summaries-gold/speed_windows7/speed_windows7.3.gold  \n",
            "  inflating: OpinosisDataset1.0/summaries-gold/speed_windows7/speed_windows7.4.gold  \n",
            "  inflating: OpinosisDataset1.0/summaries-gold/speed_windows7/speed_windows7.5.gold  \n",
            "   creating: OpinosisDataset1.0/summaries-gold/staff_bestwestern_hotel_sfo/\n",
            " extracting: OpinosisDataset1.0/summaries-gold/staff_bestwestern_hotel_sfo/staff_bestwestern_hotel_sfo.1.gold  \n",
            "  inflating: OpinosisDataset1.0/summaries-gold/staff_bestwestern_hotel_sfo/staff_bestwestern_hotel_sfo.2.gold  \n",
            " extracting: OpinosisDataset1.0/summaries-gold/staff_bestwestern_hotel_sfo/staff_bestwestern_hotel_sfo.3.gold  \n",
            "  inflating: OpinosisDataset1.0/summaries-gold/staff_bestwestern_hotel_sfo/staff_bestwestern_hotel_sfo.4.gold  \n",
            "  inflating: OpinosisDataset1.0/summaries-gold/staff_bestwestern_hotel_sfo/staff_bestwestern_hotel_sfo.5.gold  \n",
            "   creating: OpinosisDataset1.0/summaries-gold/staff_swissotel_chicago/\n",
            "  inflating: OpinosisDataset1.0/summaries-gold/staff_swissotel_chicago/staff_swissotel_chicago.1.gold  \n",
            " extracting: OpinosisDataset1.0/summaries-gold/staff_swissotel_chicago/staff_swissotel_chicago.2.gold  \n",
            "  inflating: OpinosisDataset1.0/summaries-gold/staff_swissotel_chicago/staff_swissotel_chicago.3.gold  \n",
            "  inflating: OpinosisDataset1.0/summaries-gold/staff_swissotel_chicago/staff_swissotel_chicago.4.gold  \n",
            "  inflating: OpinosisDataset1.0/summaries-gold/staff_swissotel_chicago/staff_swissotel_chicago.5.gold  \n",
            "   creating: OpinosisDataset1.0/summaries-gold/transmission_toyota_camry_2007/\n",
            "  inflating: OpinosisDataset1.0/summaries-gold/transmission_toyota_camry_2007/transmission_toyota_camry_2007.1.gold  \n",
            "  inflating: OpinosisDataset1.0/summaries-gold/transmission_toyota_camry_2007/transmission_toyota_camry_2007.2.gold  \n",
            "  inflating: OpinosisDataset1.0/summaries-gold/transmission_toyota_camry_2007/transmission_toyota_camry_2007.3.gold  \n",
            "  inflating: OpinosisDataset1.0/summaries-gold/transmission_toyota_camry_2007/transmission_toyota_camry_2007.4.gold  \n",
            " extracting: OpinosisDataset1.0/summaries-gold/transmission_toyota_camry_2007/transmission_toyota_camry_2007.5.gold  \n",
            "   creating: OpinosisDataset1.0/summaries-gold/updates_garmin_nuvi_255W_gps/\n",
            "  inflating: OpinosisDataset1.0/summaries-gold/updates_garmin_nuvi_255W_gps/updates_garmin_nuvi_255W_gps.1.gold  \n",
            "  inflating: OpinosisDataset1.0/summaries-gold/updates_garmin_nuvi_255W_gps/updates_garmin_nuvi_255W_gps.2.gold  \n",
            "  inflating: OpinosisDataset1.0/summaries-gold/updates_garmin_nuvi_255W_gps/updates_garmin_nuvi_255W_gps.3.gold  \n",
            "   creating: OpinosisDataset1.0/summaries-gold/video_ipod_nano_8gb/\n",
            "  inflating: OpinosisDataset1.0/summaries-gold/video_ipod_nano_8gb/video_ipod_nano_8gb.1.gold  \n",
            " extracting: OpinosisDataset1.0/summaries-gold/video_ipod_nano_8gb/video_ipod_nano_8gb.2.gold  \n",
            "  inflating: OpinosisDataset1.0/summaries-gold/video_ipod_nano_8gb/video_ipod_nano_8gb.3.gold  \n",
            "  inflating: OpinosisDataset1.0/summaries-gold/video_ipod_nano_8gb/video_ipod_nano_8gb.4.gold  \n",
            "  inflating: OpinosisDataset1.0/summaries-gold/video_ipod_nano_8gb/video_ipod_nano_8gb.5.gold  \n",
            "   creating: OpinosisDataset1.0/summaries-gold/voice_garmin_nuvi_255W_gps/\n",
            "  inflating: OpinosisDataset1.0/summaries-gold/voice_garmin_nuvi_255W_gps/voice_garmin_nuvi_255W_gps.1.gold  \n",
            "  inflating: OpinosisDataset1.0/summaries-gold/voice_garmin_nuvi_255W_gps/voice_garmin_nuvi_255W_gps.2.gold  \n",
            "  inflating: OpinosisDataset1.0/summaries-gold/voice_garmin_nuvi_255W_gps/voice_garmin_nuvi_255W_gps.3.gold  \n",
            "  inflating: OpinosisDataset1.0/summaries-gold/voice_garmin_nuvi_255W_gps/voice_garmin_nuvi_255W_gps.4.gold  \n",
            " extracting: OpinosisDataset1.0/summaries-gold/voice_garmin_nuvi_255W_gps/voice_garmin_nuvi_255W_gps.5.gold  \n",
            "   creating: OpinosisDataset1.0/topics/\n",
            "  inflating: OpinosisDataset1.0/topics/accuracy_garmin_nuvi_255W_gps.txt.data  \n",
            "  inflating: OpinosisDataset1.0/topics/bathroom_bestwestern_hotel_sfo.txt.data  \n",
            "  inflating: OpinosisDataset1.0/topics/battery-life_amazon_kindle.txt.data  \n",
            "  inflating: OpinosisDataset1.0/topics/battery-life_ipod_nano_8gb.txt.data  \n",
            "  inflating: OpinosisDataset1.0/topics/battery-life_netbook_1005ha.txt.data  \n",
            "  inflating: OpinosisDataset1.0/topics/buttons_amazon_kindle.txt.data  \n",
            "  inflating: OpinosisDataset1.0/topics/comfort_honda_accord_2008.txt.data  \n",
            "  inflating: OpinosisDataset1.0/topics/comfort_toyota_camry_2007.txt.data  \n",
            "  inflating: OpinosisDataset1.0/topics/directions_garmin_nuvi_255W_gps.txt.data  \n",
            "  inflating: OpinosisDataset1.0/topics/display_garmin_nuvi_255W_gps.txt.data  \n",
            "  inflating: OpinosisDataset1.0/topics/eyesight-issues_amazon_kindle.txt.data  \n",
            "  inflating: OpinosisDataset1.0/topics/features_windows7.txt.data  \n",
            "  inflating: OpinosisDataset1.0/topics/fonts_amazon_kindle.txt.data  \n",
            "  inflating: OpinosisDataset1.0/topics/food_holiday_inn_london.txt.data  \n",
            "  inflating: OpinosisDataset1.0/topics/food_swissotel_chicago.txt.data  \n",
            "  inflating: OpinosisDataset1.0/topics/free_bestwestern_hotel_sfo.txt.data  \n",
            "  inflating: OpinosisDataset1.0/topics/gas_mileage_toyota_camry_2007.txt.data  \n",
            "  inflating: OpinosisDataset1.0/topics/interior_honda_accord_2008.txt.data  \n",
            "  inflating: OpinosisDataset1.0/topics/interior_toyota_camry_2007.txt.data  \n",
            "  inflating: OpinosisDataset1.0/topics/keyboard_netbook_1005ha.txt.data  \n",
            "  inflating: OpinosisDataset1.0/topics/location_bestwestern_hotel_sfo.txt.data  \n",
            "  inflating: OpinosisDataset1.0/topics/location_holiday_inn_london.txt.data  \n",
            "  inflating: OpinosisDataset1.0/topics/mileage_honda_accord_2008.txt.data  \n",
            "  inflating: OpinosisDataset1.0/topics/navigation_amazon_kindle.txt.data  \n",
            "  inflating: OpinosisDataset1.0/topics/parking_bestwestern_hotel_sfo.txt.data  \n",
            "  inflating: OpinosisDataset1.0/topics/performance_honda_accord_2008.txt.data  \n",
            "  inflating: OpinosisDataset1.0/topics/performance_netbook_1005ha.txt.data  \n",
            "  inflating: OpinosisDataset1.0/topics/price_amazon_kindle.txt.data  \n",
            "  inflating: OpinosisDataset1.0/topics/price_holiday_inn_london.txt.data  \n",
            "  inflating: OpinosisDataset1.0/topics/quality_toyota_camry_2007.txt.data  \n",
            "  inflating: OpinosisDataset1.0/topics/room_holiday_inn_london.txt.data  \n",
            "  inflating: OpinosisDataset1.0/topics/rooms_bestwestern_hotel_sfo.txt.data  \n",
            "  inflating: OpinosisDataset1.0/topics/rooms_swissotel_chicago.txt.data  \n",
            "  inflating: OpinosisDataset1.0/topics/satellite_garmin_nuvi_255W_gps.txt.data  \n",
            "  inflating: OpinosisDataset1.0/topics/screen_garmin_nuvi_255W_gps.txt.data  \n",
            "  inflating: OpinosisDataset1.0/topics/screen_ipod_nano_8gb.txt.data  \n",
            "  inflating: OpinosisDataset1.0/topics/screen_netbook_1005ha.txt.data  \n",
            "  inflating: OpinosisDataset1.0/topics/seats_honda_accord_2008.txt.data  \n",
            "  inflating: OpinosisDataset1.0/topics/service_bestwestern_hotel_sfo.txt.data  \n",
            "  inflating: OpinosisDataset1.0/topics/service_holiday_inn_london.txt.data  \n",
            "  inflating: OpinosisDataset1.0/topics/service_swissotel_hotel_chicago.txt.data  \n",
            "  inflating: OpinosisDataset1.0/topics/size_asus_netbook_1005ha.txt.data  \n",
            "  inflating: OpinosisDataset1.0/topics/sound_ipod_nano_8gb.txt.data  \n",
            "  inflating: OpinosisDataset1.0/topics/speed_garmin_nuvi_255W_gps.txt.data  \n",
            "  inflating: OpinosisDataset1.0/topics/speed_windows7.txt.data  \n",
            "  inflating: OpinosisDataset1.0/topics/staff_bestwestern_hotel_sfo.txt.data  \n",
            "  inflating: OpinosisDataset1.0/topics/staff_swissotel_chicago.txt.data  \n",
            "  inflating: OpinosisDataset1.0/topics/transmission_toyota_camry_2007.txt.data  \n",
            "  inflating: OpinosisDataset1.0/topics/updates_garmin_nuvi_255W_gps.txt.data  \n",
            "  inflating: OpinosisDataset1.0/topics/video_ipod_nano_8gb.txt.data  \n",
            "  inflating: OpinosisDataset1.0/topics/voice_garmin_nuvi_255W_gps.txt.data  \n",
            "  inflating: OpinosisDataset1.0/OpinosisDataset1.1.pdf  \n"
          ]
        }
      ]
    },
    {
      "cell_type": "code",
      "source": [
        "!ls OpinosisDataset1.0/topics"
      ],
      "metadata": {
        "id": "-QXnjB7C6lbo",
        "colab": {
          "base_uri": "https://localhost:8080/"
        },
        "outputId": "b64b30ec-164d-4a60-f116-c17931397c71"
      },
      "execution_count": 19,
      "outputs": [
        {
          "output_type": "stream",
          "name": "stdout",
          "text": [
            "accuracy_garmin_nuvi_255W_gps.txt.data\n",
            "bathroom_bestwestern_hotel_sfo.txt.data\n",
            "battery-life_amazon_kindle.txt.data\n",
            "battery-life_ipod_nano_8gb.txt.data\n",
            "battery-life_netbook_1005ha.txt.data\n",
            "buttons_amazon_kindle.txt.data\n",
            "comfort_honda_accord_2008.txt.data\n",
            "comfort_toyota_camry_2007.txt.data\n",
            "directions_garmin_nuvi_255W_gps.txt.data\n",
            "display_garmin_nuvi_255W_gps.txt.data\n",
            "eyesight-issues_amazon_kindle.txt.data\n",
            "features_windows7.txt.data\n",
            "fonts_amazon_kindle.txt.data\n",
            "food_holiday_inn_london.txt.data\n",
            "food_swissotel_chicago.txt.data\n",
            "free_bestwestern_hotel_sfo.txt.data\n",
            "gas_mileage_toyota_camry_2007.txt.data\n",
            "interior_honda_accord_2008.txt.data\n",
            "interior_toyota_camry_2007.txt.data\n",
            "keyboard_netbook_1005ha.txt.data\n",
            "location_bestwestern_hotel_sfo.txt.data\n",
            "location_holiday_inn_london.txt.data\n",
            "mileage_honda_accord_2008.txt.data\n",
            "navigation_amazon_kindle.txt.data\n",
            "parking_bestwestern_hotel_sfo.txt.data\n",
            "performance_honda_accord_2008.txt.data\n",
            "performance_netbook_1005ha.txt.data\n",
            "price_amazon_kindle.txt.data\n",
            "price_holiday_inn_london.txt.data\n",
            "quality_toyota_camry_2007.txt.data\n",
            "room_holiday_inn_london.txt.data\n",
            "rooms_bestwestern_hotel_sfo.txt.data\n",
            "rooms_swissotel_chicago.txt.data\n",
            "satellite_garmin_nuvi_255W_gps.txt.data\n",
            "screen_garmin_nuvi_255W_gps.txt.data\n",
            "screen_ipod_nano_8gb.txt.data\n",
            "screen_netbook_1005ha.txt.data\n",
            "seats_honda_accord_2008.txt.data\n",
            "service_bestwestern_hotel_sfo.txt.data\n",
            "service_holiday_inn_london.txt.data\n",
            "service_swissotel_hotel_chicago.txt.data\n",
            "size_asus_netbook_1005ha.txt.data\n",
            "sound_ipod_nano_8gb.txt.data\n",
            "speed_garmin_nuvi_255W_gps.txt.data\n",
            "speed_windows7.txt.data\n",
            "staff_bestwestern_hotel_sfo.txt.data\n",
            "staff_swissotel_chicago.txt.data\n",
            "transmission_toyota_camry_2007.txt.data\n",
            "updates_garmin_nuvi_255W_gps.txt.data\n",
            "video_ipod_nano_8gb.txt.data\n",
            "voice_garmin_nuvi_255W_gps.txt.data\n"
          ]
        }
      ]
    },
    {
      "cell_type": "code",
      "source": [
        "import glob, os\n",
        "\n",
        "path = r'./OpinosisDataset1.0/topics/'\n",
        "files = glob.glob(os.path.join(path, '*data'))\n",
        "filenames = []\n",
        "opinions = []\n",
        "\n",
        "for file_ in files:\n",
        "    filename = file_.split('/')[-1]\n",
        "    filename = filename.split('.')[0]\n",
        "    filenames.append(filename)\n",
        "\n",
        "    df = pd.read_table(file_, index_col = None, header = 0, encoding = 'latin1')\n",
        "    opinions.append(df.to_string())\n",
        "\n",
        "opinion_df = pd.DataFrame({'filename':filenames, 'opinion': opinions})\n",
        "opinion_df"
      ],
      "metadata": {
        "id": "a8g3_xIr6wIs"
      },
      "execution_count": null,
      "outputs": []
    },
    {
      "cell_type": "code",
      "source": [
        "tfidf = TfidfVectorizer(stop_words = 'english', ngram_range = (1,2), min_df = 0.05, max_df = 0.85)\n",
        "\n",
        "tfidf_vectors = tfidf.fit_transform(opinion_df['opinion'])\n",
        "feature_name = tfidf.get_feature_names_out()\n",
        "print(feature_name)"
      ],
      "metadata": {
        "id": "8sZYfgmV14op",
        "colab": {
          "base_uri": "https://localhost:8080/"
        },
        "outputId": "97e71aae-89c7-46fe-869c-357fa0e96a93"
      },
      "execution_count": 26,
      "outputs": [
        {
          "output_type": "stream",
          "name": "stdout",
          "text": [
            "['00' '000' '000 miles' ... 'yes rooms' 'yields' 'zoom']\n"
          ]
        }
      ]
    },
    {
      "cell_type": "markdown",
      "source": [
        "### DBSCAN 알고리즘\n",
        "\n",
        "* 밀도 기반의 군집화 알고리즘\n",
        "* 특정 벡터부터 시작해 반경내 기준치 만큼의 점들이 존재한다면 군집화 하는 방식\n",
        "* 일정 밀도 이상의 데이터를 기준으로 군집을 형성하기 때문에 노이즈 처리에 용이\n",
        "* 이미 형성된 군집 기준으로 기준점을 옮겨가며 처리하기 때문에 분포가 이상한 데이터에도 강건함\n",
        "* K-means에 비해 속도가 느리고, 파라미터 값인 epsilon, min_sampels 값에 영향을 많이 받음"
      ],
      "metadata": {
        "id": "alMlD_i_ixHA"
      }
    },
    {
      "cell_type": "code",
      "source": [
        "from sklearn.cluster import DBSCAN\n",
        "\n",
        "dbscan = DBSCAN(eps = 0.7, min_samples = 3, metric = 'cosine')\n",
        "dbscan_label = dbscan.fit_predict(tfidf_vectors)\n",
        "print(dbscan_label)"
      ],
      "metadata": {
        "id": "QhJ0ZeOkizp3",
        "colab": {
          "base_uri": "https://localhost:8080/"
        },
        "outputId": "c48f24e1-5886-4ac2-e96c-135b18942965"
      },
      "execution_count": 31,
      "outputs": [
        {
          "output_type": "stream",
          "name": "stdout",
          "text": [
            "[ 0 -1  0 -1  1 -1 -1  0  2  3  0  3  1  0  3  0 -1  3 -1  0 -1  3  0 -1\n",
            " -1 -1 -1  1  0  3  1 -1  2  3  3  3  3 -1  3  2  1  3 -1  3 -1  2 -1 -1\n",
            " -1 -1  2]\n"
          ]
        }
      ]
    },
    {
      "cell_type": "code",
      "source": [
        "opinion_df['cluster'] = dbscan_label\n",
        "opinion_df"
      ],
      "metadata": {
        "id": "FefAPNBCj8E6",
        "colab": {
          "base_uri": "https://localhost:8080/",
          "height": 1000
        },
        "outputId": "1b530bc9-dae3-4040-cc50-20cf4f417601"
      },
      "execution_count": 32,
      "outputs": [
        {
          "output_type": "execute_result",
          "data": {
            "text/plain": [
              "                           filename  \\\n",
              "0               video_ipod_nano_8gb   \n",
              "1         mileage_honda_accord_2008   \n",
              "2          size_asus_netbook_1005ha   \n",
              "3     gas_mileage_toyota_camry_2007   \n",
              "4        battery-life_ipod_nano_8gb   \n",
              "5       staff_bestwestern_hotel_sfo   \n",
              "6     parking_bestwestern_hotel_sfo   \n",
              "7      display_garmin_nuvi_255W_gps   \n",
              "8         comfort_toyota_camry_2007   \n",
              "9   service_swissotel_hotel_chicago   \n",
              "10            screen_netbook_1005ha   \n",
              "11              price_amazon_kindle   \n",
              "12       battery-life_amazon_kindle   \n",
              "13      screen_garmin_nuvi_255W_gps   \n",
              "14   bathroom_bestwestern_hotel_sfo   \n",
              "15       speed_garmin_nuvi_255W_gps   \n",
              "16   satellite_garmin_nuvi_255W_gps   \n",
              "17          food_holiday_inn_london   \n",
              "18    eyesight-issues_amazon_kindle   \n",
              "19             screen_ipod_nano_8gb   \n",
              "20                features_windows7   \n",
              "21         price_holiday_inn_london   \n",
              "22          keyboard_netbook_1005ha   \n",
              "23     updates_garmin_nuvi_255W_gps   \n",
              "24       free_bestwestern_hotel_sfo   \n",
              "25    accuracy_garmin_nuvi_255W_gps   \n",
              "26          staff_swissotel_chicago   \n",
              "27    performance_honda_accord_2008   \n",
              "28       voice_garmin_nuvi_255W_gps   \n",
              "29    service_bestwestern_hotel_sfo   \n",
              "30      battery-life_netbook_1005ha   \n",
              "31            buttons_amazon_kindle   \n",
              "32       interior_toyota_camry_2007   \n",
              "33           food_swissotel_chicago   \n",
              "34   location_bestwestern_hotel_sfo   \n",
              "35      rooms_bestwestern_hotel_sfo   \n",
              "36          room_holiday_inn_london   \n",
              "37         navigation_amazon_kindle   \n",
              "38       service_holiday_inn_london   \n",
              "39          seats_honda_accord_2008   \n",
              "40       performance_netbook_1005ha   \n",
              "41          rooms_swissotel_chicago   \n",
              "42              sound_ipod_nano_8gb   \n",
              "43      location_holiday_inn_london   \n",
              "44  directions_garmin_nuvi_255W_gps   \n",
              "45       interior_honda_accord_2008   \n",
              "46   transmission_toyota_camry_2007   \n",
              "47                   speed_windows7   \n",
              "48        quality_toyota_camry_2007   \n",
              "49              fonts_amazon_kindle   \n",
              "50        comfort_honda_accord_2008   \n",
              "\n",
              "                                              opinion  cluster  \n",
              "0                                                 ...        0  \n",
              "1                                                 ...       -1  \n",
              "2                                                 ...        0  \n",
              "3                                                 ...       -1  \n",
              "4                                                 ...        1  \n",
              "5                                                 ...       -1  \n",
              "6                                                 ...       -1  \n",
              "7                                                 ...        0  \n",
              "8                                                 ...        2  \n",
              "9                                                 ...        3  \n",
              "10                                                ...        0  \n",
              "11                                                ...        3  \n",
              "12                                                ...        1  \n",
              "13                                                ...        0  \n",
              "14                                                ...        3  \n",
              "15                                                ...        0  \n",
              "16                                                ...       -1  \n",
              "17                                                ...        3  \n",
              "18                                                ...       -1  \n",
              "19                                                ...        0  \n",
              "20                                                ...       -1  \n",
              "21                                                ...        3  \n",
              "22                                                ...        0  \n",
              "23                                                ...       -1  \n",
              "24                                                ...       -1  \n",
              "25                                                ...       -1  \n",
              "26                                                ...       -1  \n",
              "27                                                ...        1  \n",
              "28                                                ...        0  \n",
              "29                                                ...        3  \n",
              "30                                                ...        1  \n",
              "31                                                ...       -1  \n",
              "32                                                ...        2  \n",
              "33                                                ...        3  \n",
              "34                                                ...        3  \n",
              "35                                                ...        3  \n",
              "36                                                ...        3  \n",
              "37                                                ...       -1  \n",
              "38                                                ...        3  \n",
              "39                                                ...        2  \n",
              "40                                                ...        1  \n",
              "41                                                ...        3  \n",
              "42      headphone jack i got a clear case for it a...       -1  \n",
              "43                                                ...        3  \n",
              "44                                                ...       -1  \n",
              "45                                                ...        2  \n",
              "46                                                ...       -1  \n",
              "47                                                ...       -1  \n",
              "48                                                ...       -1  \n",
              "49                                                ...       -1  \n",
              "50                                                ...        2  "
            ],
            "text/html": [
              "\n",
              "  <div id=\"df-f8570797-84eb-40b7-8f46-c2cd32c3ca13\">\n",
              "    <div class=\"colab-df-container\">\n",
              "      <div>\n",
              "<style scoped>\n",
              "    .dataframe tbody tr th:only-of-type {\n",
              "        vertical-align: middle;\n",
              "    }\n",
              "\n",
              "    .dataframe tbody tr th {\n",
              "        vertical-align: top;\n",
              "    }\n",
              "\n",
              "    .dataframe thead th {\n",
              "        text-align: right;\n",
              "    }\n",
              "</style>\n",
              "<table border=\"1\" class=\"dataframe\">\n",
              "  <thead>\n",
              "    <tr style=\"text-align: right;\">\n",
              "      <th></th>\n",
              "      <th>filename</th>\n",
              "      <th>opinion</th>\n",
              "      <th>cluster</th>\n",
              "    </tr>\n",
              "  </thead>\n",
              "  <tbody>\n",
              "    <tr>\n",
              "      <th>0</th>\n",
              "      <td>video_ipod_nano_8gb</td>\n",
              "      <td>...</td>\n",
              "      <td>0</td>\n",
              "    </tr>\n",
              "    <tr>\n",
              "      <th>1</th>\n",
              "      <td>mileage_honda_accord_2008</td>\n",
              "      <td>...</td>\n",
              "      <td>-1</td>\n",
              "    </tr>\n",
              "    <tr>\n",
              "      <th>2</th>\n",
              "      <td>size_asus_netbook_1005ha</td>\n",
              "      <td>...</td>\n",
              "      <td>0</td>\n",
              "    </tr>\n",
              "    <tr>\n",
              "      <th>3</th>\n",
              "      <td>gas_mileage_toyota_camry_2007</td>\n",
              "      <td>...</td>\n",
              "      <td>-1</td>\n",
              "    </tr>\n",
              "    <tr>\n",
              "      <th>4</th>\n",
              "      <td>battery-life_ipod_nano_8gb</td>\n",
              "      <td>...</td>\n",
              "      <td>1</td>\n",
              "    </tr>\n",
              "    <tr>\n",
              "      <th>5</th>\n",
              "      <td>staff_bestwestern_hotel_sfo</td>\n",
              "      <td>...</td>\n",
              "      <td>-1</td>\n",
              "    </tr>\n",
              "    <tr>\n",
              "      <th>6</th>\n",
              "      <td>parking_bestwestern_hotel_sfo</td>\n",
              "      <td>...</td>\n",
              "      <td>-1</td>\n",
              "    </tr>\n",
              "    <tr>\n",
              "      <th>7</th>\n",
              "      <td>display_garmin_nuvi_255W_gps</td>\n",
              "      <td>...</td>\n",
              "      <td>0</td>\n",
              "    </tr>\n",
              "    <tr>\n",
              "      <th>8</th>\n",
              "      <td>comfort_toyota_camry_2007</td>\n",
              "      <td>...</td>\n",
              "      <td>2</td>\n",
              "    </tr>\n",
              "    <tr>\n",
              "      <th>9</th>\n",
              "      <td>service_swissotel_hotel_chicago</td>\n",
              "      <td>...</td>\n",
              "      <td>3</td>\n",
              "    </tr>\n",
              "    <tr>\n",
              "      <th>10</th>\n",
              "      <td>screen_netbook_1005ha</td>\n",
              "      <td>...</td>\n",
              "      <td>0</td>\n",
              "    </tr>\n",
              "    <tr>\n",
              "      <th>11</th>\n",
              "      <td>price_amazon_kindle</td>\n",
              "      <td>...</td>\n",
              "      <td>3</td>\n",
              "    </tr>\n",
              "    <tr>\n",
              "      <th>12</th>\n",
              "      <td>battery-life_amazon_kindle</td>\n",
              "      <td>...</td>\n",
              "      <td>1</td>\n",
              "    </tr>\n",
              "    <tr>\n",
              "      <th>13</th>\n",
              "      <td>screen_garmin_nuvi_255W_gps</td>\n",
              "      <td>...</td>\n",
              "      <td>0</td>\n",
              "    </tr>\n",
              "    <tr>\n",
              "      <th>14</th>\n",
              "      <td>bathroom_bestwestern_hotel_sfo</td>\n",
              "      <td>...</td>\n",
              "      <td>3</td>\n",
              "    </tr>\n",
              "    <tr>\n",
              "      <th>15</th>\n",
              "      <td>speed_garmin_nuvi_255W_gps</td>\n",
              "      <td>...</td>\n",
              "      <td>0</td>\n",
              "    </tr>\n",
              "    <tr>\n",
              "      <th>16</th>\n",
              "      <td>satellite_garmin_nuvi_255W_gps</td>\n",
              "      <td>...</td>\n",
              "      <td>-1</td>\n",
              "    </tr>\n",
              "    <tr>\n",
              "      <th>17</th>\n",
              "      <td>food_holiday_inn_london</td>\n",
              "      <td>...</td>\n",
              "      <td>3</td>\n",
              "    </tr>\n",
              "    <tr>\n",
              "      <th>18</th>\n",
              "      <td>eyesight-issues_amazon_kindle</td>\n",
              "      <td>...</td>\n",
              "      <td>-1</td>\n",
              "    </tr>\n",
              "    <tr>\n",
              "      <th>19</th>\n",
              "      <td>screen_ipod_nano_8gb</td>\n",
              "      <td>...</td>\n",
              "      <td>0</td>\n",
              "    </tr>\n",
              "    <tr>\n",
              "      <th>20</th>\n",
              "      <td>features_windows7</td>\n",
              "      <td>...</td>\n",
              "      <td>-1</td>\n",
              "    </tr>\n",
              "    <tr>\n",
              "      <th>21</th>\n",
              "      <td>price_holiday_inn_london</td>\n",
              "      <td>...</td>\n",
              "      <td>3</td>\n",
              "    </tr>\n",
              "    <tr>\n",
              "      <th>22</th>\n",
              "      <td>keyboard_netbook_1005ha</td>\n",
              "      <td>...</td>\n",
              "      <td>0</td>\n",
              "    </tr>\n",
              "    <tr>\n",
              "      <th>23</th>\n",
              "      <td>updates_garmin_nuvi_255W_gps</td>\n",
              "      <td>...</td>\n",
              "      <td>-1</td>\n",
              "    </tr>\n",
              "    <tr>\n",
              "      <th>24</th>\n",
              "      <td>free_bestwestern_hotel_sfo</td>\n",
              "      <td>...</td>\n",
              "      <td>-1</td>\n",
              "    </tr>\n",
              "    <tr>\n",
              "      <th>25</th>\n",
              "      <td>accuracy_garmin_nuvi_255W_gps</td>\n",
              "      <td>...</td>\n",
              "      <td>-1</td>\n",
              "    </tr>\n",
              "    <tr>\n",
              "      <th>26</th>\n",
              "      <td>staff_swissotel_chicago</td>\n",
              "      <td>...</td>\n",
              "      <td>-1</td>\n",
              "    </tr>\n",
              "    <tr>\n",
              "      <th>27</th>\n",
              "      <td>performance_honda_accord_2008</td>\n",
              "      <td>...</td>\n",
              "      <td>1</td>\n",
              "    </tr>\n",
              "    <tr>\n",
              "      <th>28</th>\n",
              "      <td>voice_garmin_nuvi_255W_gps</td>\n",
              "      <td>...</td>\n",
              "      <td>0</td>\n",
              "    </tr>\n",
              "    <tr>\n",
              "      <th>29</th>\n",
              "      <td>service_bestwestern_hotel_sfo</td>\n",
              "      <td>...</td>\n",
              "      <td>3</td>\n",
              "    </tr>\n",
              "    <tr>\n",
              "      <th>30</th>\n",
              "      <td>battery-life_netbook_1005ha</td>\n",
              "      <td>...</td>\n",
              "      <td>1</td>\n",
              "    </tr>\n",
              "    <tr>\n",
              "      <th>31</th>\n",
              "      <td>buttons_amazon_kindle</td>\n",
              "      <td>...</td>\n",
              "      <td>-1</td>\n",
              "    </tr>\n",
              "    <tr>\n",
              "      <th>32</th>\n",
              "      <td>interior_toyota_camry_2007</td>\n",
              "      <td>...</td>\n",
              "      <td>2</td>\n",
              "    </tr>\n",
              "    <tr>\n",
              "      <th>33</th>\n",
              "      <td>food_swissotel_chicago</td>\n",
              "      <td>...</td>\n",
              "      <td>3</td>\n",
              "    </tr>\n",
              "    <tr>\n",
              "      <th>34</th>\n",
              "      <td>location_bestwestern_hotel_sfo</td>\n",
              "      <td>...</td>\n",
              "      <td>3</td>\n",
              "    </tr>\n",
              "    <tr>\n",
              "      <th>35</th>\n",
              "      <td>rooms_bestwestern_hotel_sfo</td>\n",
              "      <td>...</td>\n",
              "      <td>3</td>\n",
              "    </tr>\n",
              "    <tr>\n",
              "      <th>36</th>\n",
              "      <td>room_holiday_inn_london</td>\n",
              "      <td>...</td>\n",
              "      <td>3</td>\n",
              "    </tr>\n",
              "    <tr>\n",
              "      <th>37</th>\n",
              "      <td>navigation_amazon_kindle</td>\n",
              "      <td>...</td>\n",
              "      <td>-1</td>\n",
              "    </tr>\n",
              "    <tr>\n",
              "      <th>38</th>\n",
              "      <td>service_holiday_inn_london</td>\n",
              "      <td>...</td>\n",
              "      <td>3</td>\n",
              "    </tr>\n",
              "    <tr>\n",
              "      <th>39</th>\n",
              "      <td>seats_honda_accord_2008</td>\n",
              "      <td>...</td>\n",
              "      <td>2</td>\n",
              "    </tr>\n",
              "    <tr>\n",
              "      <th>40</th>\n",
              "      <td>performance_netbook_1005ha</td>\n",
              "      <td>...</td>\n",
              "      <td>1</td>\n",
              "    </tr>\n",
              "    <tr>\n",
              "      <th>41</th>\n",
              "      <td>rooms_swissotel_chicago</td>\n",
              "      <td>...</td>\n",
              "      <td>3</td>\n",
              "    </tr>\n",
              "    <tr>\n",
              "      <th>42</th>\n",
              "      <td>sound_ipod_nano_8gb</td>\n",
              "      <td>headphone jack i got a clear case for it a...</td>\n",
              "      <td>-1</td>\n",
              "    </tr>\n",
              "    <tr>\n",
              "      <th>43</th>\n",
              "      <td>location_holiday_inn_london</td>\n",
              "      <td>...</td>\n",
              "      <td>3</td>\n",
              "    </tr>\n",
              "    <tr>\n",
              "      <th>44</th>\n",
              "      <td>directions_garmin_nuvi_255W_gps</td>\n",
              "      <td>...</td>\n",
              "      <td>-1</td>\n",
              "    </tr>\n",
              "    <tr>\n",
              "      <th>45</th>\n",
              "      <td>interior_honda_accord_2008</td>\n",
              "      <td>...</td>\n",
              "      <td>2</td>\n",
              "    </tr>\n",
              "    <tr>\n",
              "      <th>46</th>\n",
              "      <td>transmission_toyota_camry_2007</td>\n",
              "      <td>...</td>\n",
              "      <td>-1</td>\n",
              "    </tr>\n",
              "    <tr>\n",
              "      <th>47</th>\n",
              "      <td>speed_windows7</td>\n",
              "      <td>...</td>\n",
              "      <td>-1</td>\n",
              "    </tr>\n",
              "    <tr>\n",
              "      <th>48</th>\n",
              "      <td>quality_toyota_camry_2007</td>\n",
              "      <td>...</td>\n",
              "      <td>-1</td>\n",
              "    </tr>\n",
              "    <tr>\n",
              "      <th>49</th>\n",
              "      <td>fonts_amazon_kindle</td>\n",
              "      <td>...</td>\n",
              "      <td>-1</td>\n",
              "    </tr>\n",
              "    <tr>\n",
              "      <th>50</th>\n",
              "      <td>comfort_honda_accord_2008</td>\n",
              "      <td>...</td>\n",
              "      <td>2</td>\n",
              "    </tr>\n",
              "  </tbody>\n",
              "</table>\n",
              "</div>\n",
              "      <button class=\"colab-df-convert\" onclick=\"convertToInteractive('df-f8570797-84eb-40b7-8f46-c2cd32c3ca13')\"\n",
              "              title=\"Convert this dataframe to an interactive table.\"\n",
              "              style=\"display:none;\">\n",
              "        \n",
              "  <svg xmlns=\"http://www.w3.org/2000/svg\" height=\"24px\"viewBox=\"0 0 24 24\"\n",
              "       width=\"24px\">\n",
              "    <path d=\"M0 0h24v24H0V0z\" fill=\"none\"/>\n",
              "    <path d=\"M18.56 5.44l.94 2.06.94-2.06 2.06-.94-2.06-.94-.94-2.06-.94 2.06-2.06.94zm-11 1L8.5 8.5l.94-2.06 2.06-.94-2.06-.94L8.5 2.5l-.94 2.06-2.06.94zm10 10l.94 2.06.94-2.06 2.06-.94-2.06-.94-.94-2.06-.94 2.06-2.06.94z\"/><path d=\"M17.41 7.96l-1.37-1.37c-.4-.4-.92-.59-1.43-.59-.52 0-1.04.2-1.43.59L10.3 9.45l-7.72 7.72c-.78.78-.78 2.05 0 2.83L4 21.41c.39.39.9.59 1.41.59.51 0 1.02-.2 1.41-.59l7.78-7.78 2.81-2.81c.8-.78.8-2.07 0-2.86zM5.41 20L4 18.59l7.72-7.72 1.47 1.35L5.41 20z\"/>\n",
              "  </svg>\n",
              "      </button>\n",
              "      \n",
              "  <style>\n",
              "    .colab-df-container {\n",
              "      display:flex;\n",
              "      flex-wrap:wrap;\n",
              "      gap: 12px;\n",
              "    }\n",
              "\n",
              "    .colab-df-convert {\n",
              "      background-color: #E8F0FE;\n",
              "      border: none;\n",
              "      border-radius: 50%;\n",
              "      cursor: pointer;\n",
              "      display: none;\n",
              "      fill: #1967D2;\n",
              "      height: 32px;\n",
              "      padding: 0 0 0 0;\n",
              "      width: 32px;\n",
              "    }\n",
              "\n",
              "    .colab-df-convert:hover {\n",
              "      background-color: #E2EBFA;\n",
              "      box-shadow: 0px 1px 2px rgba(60, 64, 67, 0.3), 0px 1px 3px 1px rgba(60, 64, 67, 0.15);\n",
              "      fill: #174EA6;\n",
              "    }\n",
              "\n",
              "    [theme=dark] .colab-df-convert {\n",
              "      background-color: #3B4455;\n",
              "      fill: #D2E3FC;\n",
              "    }\n",
              "\n",
              "    [theme=dark] .colab-df-convert:hover {\n",
              "      background-color: #434B5C;\n",
              "      box-shadow: 0px 1px 3px 1px rgba(0, 0, 0, 0.15);\n",
              "      filter: drop-shadow(0px 1px 2px rgba(0, 0, 0, 0.3));\n",
              "      fill: #FFFFFF;\n",
              "    }\n",
              "  </style>\n",
              "\n",
              "      <script>\n",
              "        const buttonEl =\n",
              "          document.querySelector('#df-f8570797-84eb-40b7-8f46-c2cd32c3ca13 button.colab-df-convert');\n",
              "        buttonEl.style.display =\n",
              "          google.colab.kernel.accessAllowed ? 'block' : 'none';\n",
              "\n",
              "        async function convertToInteractive(key) {\n",
              "          const element = document.querySelector('#df-f8570797-84eb-40b7-8f46-c2cd32c3ca13');\n",
              "          const dataTable =\n",
              "            await google.colab.kernel.invokeFunction('convertToInteractive',\n",
              "                                                     [key], {});\n",
              "          if (!dataTable) return;\n",
              "\n",
              "          const docLinkHtml = 'Like what you see? Visit the ' +\n",
              "            '<a target=\"_blank\" href=https://colab.research.google.com/notebooks/data_table.ipynb>data table notebook</a>'\n",
              "            + ' to learn more about interactive tables.';\n",
              "          element.innerHTML = '';\n",
              "          dataTable['output_type'] = 'display_data';\n",
              "          await google.colab.output.renderOutput(dataTable, element);\n",
              "          const docLink = document.createElement('div');\n",
              "          docLink.innerHTML = docLinkHtml;\n",
              "          element.appendChild(docLink);\n",
              "        }\n",
              "      </script>\n",
              "    </div>\n",
              "  </div>\n",
              "  "
            ]
          },
          "metadata": {},
          "execution_count": 32
        }
      ]
    },
    {
      "cell_type": "code",
      "source": [
        "for cluster_num in set(dbscan_label):\n",
        "    print('Clustr: {}'.format(cluster_num))\n",
        "    df = opinion_df[opinion_df['cluster'] == cluster_num]\n",
        "    for filename in df['filename']:\n",
        "        print(filename)\n",
        "    print()"
      ],
      "metadata": {
        "id": "L7OJTdKjkBe7",
        "colab": {
          "base_uri": "https://localhost:8080/"
        },
        "outputId": "30656cc0-0f4b-4126-99ba-20449dfe0d91"
      },
      "execution_count": 34,
      "outputs": [
        {
          "output_type": "stream",
          "name": "stdout",
          "text": [
            "Clustr: 0\n",
            "video_ipod_nano_8gb\n",
            "size_asus_netbook_1005ha\n",
            "display_garmin_nuvi_255W_gps\n",
            "screen_netbook_1005ha\n",
            "screen_garmin_nuvi_255W_gps\n",
            "speed_garmin_nuvi_255W_gps\n",
            "screen_ipod_nano_8gb\n",
            "keyboard_netbook_1005ha\n",
            "voice_garmin_nuvi_255W_gps\n",
            "\n",
            "Clustr: 1\n",
            "battery-life_ipod_nano_8gb\n",
            "battery-life_amazon_kindle\n",
            "performance_honda_accord_2008\n",
            "battery-life_netbook_1005ha\n",
            "performance_netbook_1005ha\n",
            "\n",
            "Clustr: 2\n",
            "comfort_toyota_camry_2007\n",
            "interior_toyota_camry_2007\n",
            "seats_honda_accord_2008\n",
            "interior_honda_accord_2008\n",
            "comfort_honda_accord_2008\n",
            "\n",
            "Clustr: 3\n",
            "service_swissotel_hotel_chicago\n",
            "price_amazon_kindle\n",
            "bathroom_bestwestern_hotel_sfo\n",
            "food_holiday_inn_london\n",
            "price_holiday_inn_london\n",
            "service_bestwestern_hotel_sfo\n",
            "food_swissotel_chicago\n",
            "location_bestwestern_hotel_sfo\n",
            "rooms_bestwestern_hotel_sfo\n",
            "room_holiday_inn_london\n",
            "service_holiday_inn_london\n",
            "rooms_swissotel_chicago\n",
            "location_holiday_inn_london\n",
            "\n",
            "Clustr: -1\n",
            "mileage_honda_accord_2008\n",
            "gas_mileage_toyota_camry_2007\n",
            "staff_bestwestern_hotel_sfo\n",
            "parking_bestwestern_hotel_sfo\n",
            "satellite_garmin_nuvi_255W_gps\n",
            "eyesight-issues_amazon_kindle\n",
            "features_windows7\n",
            "updates_garmin_nuvi_255W_gps\n",
            "free_bestwestern_hotel_sfo\n",
            "accuracy_garmin_nuvi_255W_gps\n",
            "staff_swissotel_chicago\n",
            "buttons_amazon_kindle\n",
            "navigation_amazon_kindle\n",
            "sound_ipod_nano_8gb\n",
            "directions_garmin_nuvi_255W_gps\n",
            "transmission_toyota_camry_2007\n",
            "speed_windows7\n",
            "quality_toyota_camry_2007\n",
            "fonts_amazon_kindle\n",
            "\n"
          ]
        }
      ]
    },
    {
      "cell_type": "markdown",
      "source": [
        "### K-means 알고리즘\n",
        "\n",
        "* 대표적인 군집화 알고리즘\n",
        "* 클러스터 수 k를 직접 지정해야 함\n",
        "* 각 군집내 평균 벡터와 해당 군집에 속한 벡터간의 거리 제곱의 합이 최소가 되는 군집을 찾는 방법\n",
        "* 노이즈 데이터에 취약하고, 중심점(centroid)을 임의로 잡기 때문에 군집 결과가 상이하거나 나쁠수 있음"
      ],
      "metadata": {
        "id": "NozeOHtIiVMS"
      }
    },
    {
      "cell_type": "code",
      "source": [
        "from sklearn.cluster import KMeans\n",
        "\n",
        "k = 3\n",
        "kmeans = KMeans(n_clusters = k, max_iter = 10000, random_state = 42)\n",
        "kmeans_label = kmeans.fit_predict(tfidf_vectors)\n",
        "kmeans_centers = kmeans.cluster_centers_\n",
        "\n",
        "print(kmeans_label) # 3가지의 레이블 생성됨\n",
        "pd.DataFrame(kmeans_centers) # 4400개 컬럼이 3개의 군집으로 묶여있다."
      ],
      "metadata": {
        "id": "a8hgWwLX2dff",
        "colab": {
          "base_uri": "https://localhost:8080/",
          "height": 273
        },
        "outputId": "e4304611-599c-4e02-9a0e-556ae018db34"
      },
      "execution_count": 35,
      "outputs": [
        {
          "output_type": "stream",
          "name": "stdout",
          "text": [
            "[2 0 2 0 2 1 1 2 0 1 2 2 2 2 1 2 2 1 2 2 2 1 2 2 1 2 1 0 2 1 2 2 0 1 1 1 1\n",
            " 2 1 0 2 1 2 1 2 0 0 2 0 2 0]\n"
          ]
        },
        {
          "output_type": "execute_result",
          "data": {
            "text/plain": [
              "       0         1        2         3         4         5         6     \\\n",
              "0  0.000932  0.007161  0.00486  0.003372  0.003252  0.004269  0.007004   \n",
              "1  0.004467  0.000000  0.00000  0.000000  0.000195  0.000000  0.000000   \n",
              "2  0.001304  0.000000  0.00000  0.000000  0.000000  0.000551  0.000000   \n",
              "\n",
              "       7         8         9     ...      4390      4391      4392      4393  \\\n",
              "0  0.000000  0.000000  0.000000  ...  0.004123  0.002509  0.005445  0.000000   \n",
              "1  0.000857  0.001729  0.000000  ...  0.001365  0.001024  0.002556  0.000865   \n",
              "2  0.000000  0.000000  0.003177  ...  0.005709  0.003491  0.005241  0.002440   \n",
              "\n",
              "       4394      4395      4396      4397      4398      4399  \n",
              "0  0.000000  0.002379  0.001887  0.000000  0.002924  0.000000  \n",
              "1  0.000700  0.000951  0.003261  0.001657  0.000000  0.000000  \n",
              "2  0.001774  0.000000  0.002975  0.000000  0.000411  0.007339  \n",
              "\n",
              "[3 rows x 4400 columns]"
            ],
            "text/html": [
              "\n",
              "  <div id=\"df-d11bd8bc-8650-4155-aa98-3081f6e23fba\">\n",
              "    <div class=\"colab-df-container\">\n",
              "      <div>\n",
              "<style scoped>\n",
              "    .dataframe tbody tr th:only-of-type {\n",
              "        vertical-align: middle;\n",
              "    }\n",
              "\n",
              "    .dataframe tbody tr th {\n",
              "        vertical-align: top;\n",
              "    }\n",
              "\n",
              "    .dataframe thead th {\n",
              "        text-align: right;\n",
              "    }\n",
              "</style>\n",
              "<table border=\"1\" class=\"dataframe\">\n",
              "  <thead>\n",
              "    <tr style=\"text-align: right;\">\n",
              "      <th></th>\n",
              "      <th>0</th>\n",
              "      <th>1</th>\n",
              "      <th>2</th>\n",
              "      <th>3</th>\n",
              "      <th>4</th>\n",
              "      <th>5</th>\n",
              "      <th>6</th>\n",
              "      <th>7</th>\n",
              "      <th>8</th>\n",
              "      <th>9</th>\n",
              "      <th>...</th>\n",
              "      <th>4390</th>\n",
              "      <th>4391</th>\n",
              "      <th>4392</th>\n",
              "      <th>4393</th>\n",
              "      <th>4394</th>\n",
              "      <th>4395</th>\n",
              "      <th>4396</th>\n",
              "      <th>4397</th>\n",
              "      <th>4398</th>\n",
              "      <th>4399</th>\n",
              "    </tr>\n",
              "  </thead>\n",
              "  <tbody>\n",
              "    <tr>\n",
              "      <th>0</th>\n",
              "      <td>0.000932</td>\n",
              "      <td>0.007161</td>\n",
              "      <td>0.00486</td>\n",
              "      <td>0.003372</td>\n",
              "      <td>0.003252</td>\n",
              "      <td>0.004269</td>\n",
              "      <td>0.007004</td>\n",
              "      <td>0.000000</td>\n",
              "      <td>0.000000</td>\n",
              "      <td>0.000000</td>\n",
              "      <td>...</td>\n",
              "      <td>0.004123</td>\n",
              "      <td>0.002509</td>\n",
              "      <td>0.005445</td>\n",
              "      <td>0.000000</td>\n",
              "      <td>0.000000</td>\n",
              "      <td>0.002379</td>\n",
              "      <td>0.001887</td>\n",
              "      <td>0.000000</td>\n",
              "      <td>0.002924</td>\n",
              "      <td>0.000000</td>\n",
              "    </tr>\n",
              "    <tr>\n",
              "      <th>1</th>\n",
              "      <td>0.004467</td>\n",
              "      <td>0.000000</td>\n",
              "      <td>0.00000</td>\n",
              "      <td>0.000000</td>\n",
              "      <td>0.000195</td>\n",
              "      <td>0.000000</td>\n",
              "      <td>0.000000</td>\n",
              "      <td>0.000857</td>\n",
              "      <td>0.001729</td>\n",
              "      <td>0.000000</td>\n",
              "      <td>...</td>\n",
              "      <td>0.001365</td>\n",
              "      <td>0.001024</td>\n",
              "      <td>0.002556</td>\n",
              "      <td>0.000865</td>\n",
              "      <td>0.000700</td>\n",
              "      <td>0.000951</td>\n",
              "      <td>0.003261</td>\n",
              "      <td>0.001657</td>\n",
              "      <td>0.000000</td>\n",
              "      <td>0.000000</td>\n",
              "    </tr>\n",
              "    <tr>\n",
              "      <th>2</th>\n",
              "      <td>0.001304</td>\n",
              "      <td>0.000000</td>\n",
              "      <td>0.00000</td>\n",
              "      <td>0.000000</td>\n",
              "      <td>0.000000</td>\n",
              "      <td>0.000551</td>\n",
              "      <td>0.000000</td>\n",
              "      <td>0.000000</td>\n",
              "      <td>0.000000</td>\n",
              "      <td>0.003177</td>\n",
              "      <td>...</td>\n",
              "      <td>0.005709</td>\n",
              "      <td>0.003491</td>\n",
              "      <td>0.005241</td>\n",
              "      <td>0.002440</td>\n",
              "      <td>0.001774</td>\n",
              "      <td>0.000000</td>\n",
              "      <td>0.002975</td>\n",
              "      <td>0.000000</td>\n",
              "      <td>0.000411</td>\n",
              "      <td>0.007339</td>\n",
              "    </tr>\n",
              "  </tbody>\n",
              "</table>\n",
              "<p>3 rows × 4400 columns</p>\n",
              "</div>\n",
              "      <button class=\"colab-df-convert\" onclick=\"convertToInteractive('df-d11bd8bc-8650-4155-aa98-3081f6e23fba')\"\n",
              "              title=\"Convert this dataframe to an interactive table.\"\n",
              "              style=\"display:none;\">\n",
              "        \n",
              "  <svg xmlns=\"http://www.w3.org/2000/svg\" height=\"24px\"viewBox=\"0 0 24 24\"\n",
              "       width=\"24px\">\n",
              "    <path d=\"M0 0h24v24H0V0z\" fill=\"none\"/>\n",
              "    <path d=\"M18.56 5.44l.94 2.06.94-2.06 2.06-.94-2.06-.94-.94-2.06-.94 2.06-2.06.94zm-11 1L8.5 8.5l.94-2.06 2.06-.94-2.06-.94L8.5 2.5l-.94 2.06-2.06.94zm10 10l.94 2.06.94-2.06 2.06-.94-2.06-.94-.94-2.06-.94 2.06-2.06.94z\"/><path d=\"M17.41 7.96l-1.37-1.37c-.4-.4-.92-.59-1.43-.59-.52 0-1.04.2-1.43.59L10.3 9.45l-7.72 7.72c-.78.78-.78 2.05 0 2.83L4 21.41c.39.39.9.59 1.41.59.51 0 1.02-.2 1.41-.59l7.78-7.78 2.81-2.81c.8-.78.8-2.07 0-2.86zM5.41 20L4 18.59l7.72-7.72 1.47 1.35L5.41 20z\"/>\n",
              "  </svg>\n",
              "      </button>\n",
              "      \n",
              "  <style>\n",
              "    .colab-df-container {\n",
              "      display:flex;\n",
              "      flex-wrap:wrap;\n",
              "      gap: 12px;\n",
              "    }\n",
              "\n",
              "    .colab-df-convert {\n",
              "      background-color: #E8F0FE;\n",
              "      border: none;\n",
              "      border-radius: 50%;\n",
              "      cursor: pointer;\n",
              "      display: none;\n",
              "      fill: #1967D2;\n",
              "      height: 32px;\n",
              "      padding: 0 0 0 0;\n",
              "      width: 32px;\n",
              "    }\n",
              "\n",
              "    .colab-df-convert:hover {\n",
              "      background-color: #E2EBFA;\n",
              "      box-shadow: 0px 1px 2px rgba(60, 64, 67, 0.3), 0px 1px 3px 1px rgba(60, 64, 67, 0.15);\n",
              "      fill: #174EA6;\n",
              "    }\n",
              "\n",
              "    [theme=dark] .colab-df-convert {\n",
              "      background-color: #3B4455;\n",
              "      fill: #D2E3FC;\n",
              "    }\n",
              "\n",
              "    [theme=dark] .colab-df-convert:hover {\n",
              "      background-color: #434B5C;\n",
              "      box-shadow: 0px 1px 3px 1px rgba(0, 0, 0, 0.15);\n",
              "      filter: drop-shadow(0px 1px 2px rgba(0, 0, 0, 0.3));\n",
              "      fill: #FFFFFF;\n",
              "    }\n",
              "  </style>\n",
              "\n",
              "      <script>\n",
              "        const buttonEl =\n",
              "          document.querySelector('#df-d11bd8bc-8650-4155-aa98-3081f6e23fba button.colab-df-convert');\n",
              "        buttonEl.style.display =\n",
              "          google.colab.kernel.accessAllowed ? 'block' : 'none';\n",
              "\n",
              "        async function convertToInteractive(key) {\n",
              "          const element = document.querySelector('#df-d11bd8bc-8650-4155-aa98-3081f6e23fba');\n",
              "          const dataTable =\n",
              "            await google.colab.kernel.invokeFunction('convertToInteractive',\n",
              "                                                     [key], {});\n",
              "          if (!dataTable) return;\n",
              "\n",
              "          const docLinkHtml = 'Like what you see? Visit the ' +\n",
              "            '<a target=\"_blank\" href=https://colab.research.google.com/notebooks/data_table.ipynb>data table notebook</a>'\n",
              "            + ' to learn more about interactive tables.';\n",
              "          element.innerHTML = '';\n",
              "          dataTable['output_type'] = 'display_data';\n",
              "          await google.colab.output.renderOutput(dataTable, element);\n",
              "          const docLink = document.createElement('div');\n",
              "          docLink.innerHTML = docLinkHtml;\n",
              "          element.appendChild(docLink);\n",
              "        }\n",
              "      </script>\n",
              "    </div>\n",
              "  </div>\n",
              "  "
            ]
          },
          "metadata": {},
          "execution_count": 35
        }
      ]
    },
    {
      "cell_type": "code",
      "source": [],
      "metadata": {
        "id": "wQlUSu2O3no5"
      },
      "execution_count": null,
      "outputs": []
    },
    {
      "cell_type": "code",
      "source": [],
      "metadata": {
        "id": "F9FMrnQu-Fhb"
      },
      "execution_count": null,
      "outputs": []
    },
    {
      "cell_type": "code",
      "source": [],
      "metadata": {
        "id": "2G2hLv2EIspO"
      },
      "execution_count": null,
      "outputs": []
    },
    {
      "cell_type": "code",
      "source": [],
      "metadata": {
        "id": "UH5SIb4C-YkY"
      },
      "execution_count": null,
      "outputs": []
    },
    {
      "cell_type": "code",
      "source": [],
      "metadata": {
        "id": "yHfkznAL_Hk8"
      },
      "execution_count": null,
      "outputs": []
    },
    {
      "cell_type": "markdown",
      "source": [
        "### 리뷰 문서 유사도 측정"
      ],
      "metadata": {
        "id": "44GNtCYjtzNL"
      }
    },
    {
      "cell_type": "code",
      "source": [],
      "metadata": {
        "id": "UkwIeJaX1Azr"
      },
      "execution_count": null,
      "outputs": []
    },
    {
      "cell_type": "code",
      "source": [],
      "metadata": {
        "id": "wAu22nhNtyvo"
      },
      "execution_count": null,
      "outputs": []
    },
    {
      "cell_type": "code",
      "source": [],
      "metadata": {
        "id": "fnmCVN208nMw"
      },
      "execution_count": null,
      "outputs": []
    },
    {
      "cell_type": "code",
      "source": [],
      "metadata": {
        "id": "ZfV7kTk47vox"
      },
      "execution_count": null,
      "outputs": []
    },
    {
      "cell_type": "code",
      "source": [],
      "metadata": {
        "id": "Fz83pT_Nv4Kk"
      },
      "execution_count": null,
      "outputs": []
    },
    {
      "cell_type": "code",
      "source": [],
      "metadata": {
        "id": "_IUXDl3tx6FJ"
      },
      "execution_count": null,
      "outputs": []
    },
    {
      "cell_type": "code",
      "source": [],
      "metadata": {
        "id": "kFY-gKi-xtrb"
      },
      "execution_count": null,
      "outputs": []
    },
    {
      "cell_type": "markdown",
      "metadata": {
        "id": "n6GqkGGRcw11"
      },
      "source": [
        "## 계층적 군집화(Hierarchical Clustering)"
      ]
    },
    {
      "cell_type": "markdown",
      "metadata": {
        "id": "w3_LdBuB3eu4"
      },
      "source": [
        "* 계층적 군집화란 개별 개체들을 유사한 개체나 그룹과 통합해 군집화를 수행하는 알고리즘\n",
        "* 비계층적 군집화와는 달리 군집 수를 지정하지 않아도 군집화를 할 수 있는 것이 장점  \n",
        "* 계층적 군집화는 모든 개체간 거리나 유사도가 미리 계산되어 있어야만 하며, 계산복잡도도 비계층적 군집화보다 큼\n",
        "\n",
        "\n"
      ]
    },
    {
      "cell_type": "markdown",
      "metadata": {
        "id": "ShV75NPoCOdR"
      },
      "source": [
        "### 병합 군집화(Agglomerative Clustering)"
      ]
    },
    {
      "cell_type": "markdown",
      "metadata": {
        "id": "XqmquP17B-6r"
      },
      "source": [
        "* 비계층적 군집화의 일종인 `agglomerativeClustering`(병합 군집)을 이용, 계층적 군집화 실습    \n",
        "* 병합 군집은 각 개체들을 클러스터로 간주, 종료 조건을 만족할 때 까지 가장 비슷한 두 클러스터들을 합치며 진행\n",
        "* 병합 군집의 종료 조건에는 3가지(ward, average, complete)를 지정 가능"
      ]
    },
    {
      "cell_type": "markdown",
      "metadata": {
        "id": "5R-3nbN-Cflh"
      },
      "source": [
        "`ward`: 모든 클러스터 내의 분산을 가장 적게 증가시키는 두 클러스터를 합침(기본값)"
      ]
    },
    {
      "cell_type": "code",
      "metadata": {
        "id": "YzE7J1qqczzu"
      },
      "source": [],
      "execution_count": null,
      "outputs": []
    },
    {
      "cell_type": "code",
      "metadata": {
        "id": "Boe1jwGmohMF"
      },
      "source": [],
      "execution_count": null,
      "outputs": []
    },
    {
      "cell_type": "code",
      "metadata": {
        "id": "fd53VVnloj5-"
      },
      "source": [],
      "execution_count": null,
      "outputs": []
    },
    {
      "cell_type": "markdown",
      "metadata": {
        "id": "UzQbDI63Cidh"
      },
      "source": [
        "`average`: 클러스터간 평균 거리가 가장 짧은 두 클러스터를 합침"
      ]
    },
    {
      "cell_type": "code",
      "metadata": {
        "id": "-UupbES4C4jk"
      },
      "source": [],
      "execution_count": null,
      "outputs": []
    },
    {
      "cell_type": "code",
      "metadata": {
        "id": "RZsnW5iTC4pC"
      },
      "source": [],
      "execution_count": null,
      "outputs": []
    },
    {
      "cell_type": "code",
      "metadata": {
        "id": "82jEoQAoC4rt"
      },
      "source": [],
      "execution_count": null,
      "outputs": []
    },
    {
      "cell_type": "markdown",
      "metadata": {
        "id": "06we34IdCkfc"
      },
      "source": [
        "`complete`: 클러스터간 최대 거리가 가장 짧은 두 클러스터를 합침"
      ]
    },
    {
      "cell_type": "code",
      "metadata": {
        "id": "vRLkgHafDJ-T"
      },
      "source": [],
      "execution_count": null,
      "outputs": []
    },
    {
      "cell_type": "code",
      "metadata": {
        "id": "z4fdn-rLDKAx"
      },
      "source": [],
      "execution_count": null,
      "outputs": []
    },
    {
      "cell_type": "code",
      "metadata": {
        "id": "02fa3kUZDKC2"
      },
      "source": [],
      "execution_count": null,
      "outputs": []
    },
    {
      "cell_type": "markdown",
      "metadata": {
        "id": "0chOe9IyCXqm"
      },
      "source": [
        "### 덴드로그램(Dendrogram)"
      ]
    },
    {
      "cell_type": "markdown",
      "metadata": {
        "id": "vr4YdPeMDbjb"
      },
      "source": [
        "* `pdist`를 이용한 각 단어간 유클리디안 거리 계산"
      ]
    },
    {
      "cell_type": "code",
      "metadata": {
        "id": "4HQRcyag1QvP"
      },
      "source": [],
      "execution_count": null,
      "outputs": []
    },
    {
      "cell_type": "markdown",
      "metadata": {
        "id": "d53gCFB-DtBI"
      },
      "source": [
        "* 각 단어간 유클리디안 거리를 이용한 군집 분석 및 덴드로그램 시각화"
      ]
    },
    {
      "cell_type": "code",
      "metadata": {
        "id": "7bJJj7Zx1SKn"
      },
      "source": [],
      "execution_count": null,
      "outputs": []
    },
    {
      "cell_type": "markdown",
      "metadata": {
        "id": "VKJY0tieD4Wp"
      },
      "source": [
        "* 각 단어간 코사인 유사도를 이용한 군집 분석 및 덴드로그램 시각화"
      ]
    },
    {
      "cell_type": "code",
      "source": [],
      "metadata": {
        "id": "UAPP21DQZK0P"
      },
      "execution_count": null,
      "outputs": []
    },
    {
      "cell_type": "code",
      "source": [],
      "metadata": {
        "id": "f0aGg5L0ZN3E"
      },
      "execution_count": null,
      "outputs": []
    },
    {
      "cell_type": "markdown",
      "source": [
        "## 뉴스그룹 군집 분석"
      ],
      "metadata": {
        "id": "eJnXu1zkbmD7"
      }
    },
    {
      "cell_type": "markdown",
      "source": [
        "### 데이터 로드 및 전처리"
      ],
      "metadata": {
        "id": "w5vQY3ZZd1RS"
      }
    },
    {
      "cell_type": "code",
      "source": [],
      "metadata": {
        "id": "wTvUtCUiboOp"
      },
      "execution_count": null,
      "outputs": []
    },
    {
      "cell_type": "code",
      "source": [],
      "metadata": {
        "id": "BIf6cRH1cD2-"
      },
      "execution_count": null,
      "outputs": []
    },
    {
      "cell_type": "code",
      "source": [],
      "metadata": {
        "id": "JVGLYfKxcYUz"
      },
      "execution_count": null,
      "outputs": []
    },
    {
      "cell_type": "markdown",
      "source": [
        "### K-means 군집화"
      ],
      "metadata": {
        "id": "oLnbp151d5F0"
      }
    },
    {
      "cell_type": "code",
      "source": [],
      "metadata": {
        "id": "RBXY8RtFcayP"
      },
      "execution_count": null,
      "outputs": []
    },
    {
      "cell_type": "code",
      "source": [],
      "metadata": {
        "id": "xbYtldcbdLLa"
      },
      "execution_count": null,
      "outputs": []
    },
    {
      "cell_type": "code",
      "source": [],
      "metadata": {
        "id": "u_NlyYGRdQyW"
      },
      "execution_count": null,
      "outputs": []
    },
    {
      "cell_type": "code",
      "source": [],
      "metadata": {
        "id": "GHB5kbtVdYL2"
      },
      "execution_count": null,
      "outputs": []
    },
    {
      "cell_type": "code",
      "source": [],
      "metadata": {
        "id": "LDRlC1XEdlQm"
      },
      "execution_count": null,
      "outputs": []
    },
    {
      "cell_type": "markdown",
      "source": [
        "### 병합 군집화"
      ],
      "metadata": {
        "id": "SUV7wmd9eDO-"
      }
    },
    {
      "cell_type": "code",
      "source": [],
      "metadata": {
        "id": "JIZJHrBqeEAq"
      },
      "execution_count": null,
      "outputs": []
    },
    {
      "cell_type": "code",
      "source": [],
      "metadata": {
        "id": "gwiSrDydeQJQ"
      },
      "execution_count": null,
      "outputs": []
    },
    {
      "cell_type": "code",
      "source": [],
      "metadata": {
        "id": "aECRlpC6g7oJ"
      },
      "execution_count": null,
      "outputs": []
    }
  ]
}