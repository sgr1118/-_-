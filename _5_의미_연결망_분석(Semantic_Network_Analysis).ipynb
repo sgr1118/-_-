{
  "nbformat": 4,
  "nbformat_minor": 0,
  "metadata": {
    "colab": {
      "provenance": [],
      "include_colab_link": true
    },
    "kernelspec": {
      "name": "python3",
      "display_name": "Python 3"
    }
  },
  "cells": [
    {
      "cell_type": "markdown",
      "metadata": {
        "id": "view-in-github",
        "colab_type": "text"
      },
      "source": [
        "<a href=\"https://colab.research.google.com/github/sgr1118/NLP_basic/blob/main/_5_%EC%9D%98%EB%AF%B8_%EC%97%B0%EA%B2%B0%EB%A7%9D_%EB%B6%84%EC%84%9D(Semantic_Network_Analysis).ipynb\" target=\"_parent\"><img src=\"https://colab.research.google.com/assets/colab-badge.svg\" alt=\"Open In Colab\"/></a>"
      ]
    },
    {
      "cell_type": "markdown",
      "metadata": {
        "id": "8w_tpqGaAyVO"
      },
      "source": [
        "# 의미 연결망 분석(Semantic Network Analysis)"
      ]
    },
    {
      "cell_type": "markdown",
      "metadata": {
        "id": "3vwuLxVfMRiB"
      },
      "source": [
        "* 사회 연결망 분석(Social Network Analysis)는 분석 대상 및 분석 대상들간의 관계를   \n",
        "연결망 구조로 표현하고 이를 계량적으로 제시하는 분석 기법\n",
        "* 사회 연결망 분석은 사람, 장소, 물품 등의 객체 간의 관계를 분석하는데 효과적이며  \n",
        "주로 친구 관계, 전력 공급 등을 분석하는데 사용\n",
        "* 사회 연결망 분석 기법을 텍스트 내 단어의 관계에 적용한 것이 바로 의미 연결망 분석\n",
        "* 의미 연결망 분석에서는 일정한 범위 내에서 어휘가 동시에 등장하면 서로 연결된 것으로 간주, 이 연결 관계들을 분석\n"
      ]
    },
    {
      "cell_type": "markdown",
      "metadata": {
        "id": "M29i6PFkWzDc"
      },
      "source": [
        "## n-gram"
      ]
    },
    {
      "cell_type": "markdown",
      "metadata": {
        "id": "KOfhuY4-aBdF"
      },
      "source": [
        "* `nltk` 라이브러리는 편하게 n-gram을 생성할 수 있는 함수를 제공\n",
        "* 많이 사용되는 `bigrams`의 경우에는 별도의 함수를 제공하니 해당 내용을 참조하여 n-gram 생성"
      ]
    },
    {
      "cell_type": "code",
      "metadata": {
        "id": "s4kJbCxWYmZa",
        "colab": {
          "base_uri": "https://localhost:8080/"
        },
        "outputId": "e6e12c58-c353-4f6a-a380-2ba73644bde0"
      },
      "source": [
        "import nltk\n",
        "nltk.download('punkt')"
      ],
      "execution_count": 1,
      "outputs": [
        {
          "output_type": "stream",
          "name": "stderr",
          "text": [
            "[nltk_data] Downloading package punkt to /root/nltk_data...\n",
            "[nltk_data]   Package punkt is already up-to-date!\n"
          ]
        },
        {
          "output_type": "execute_result",
          "data": {
            "text/plain": [
              "True"
            ]
          },
          "metadata": {},
          "execution_count": 1
        }
      ]
    },
    {
      "cell_type": "code",
      "metadata": {
        "id": "vCbTuM2oX6I8",
        "colab": {
          "base_uri": "https://localhost:8080/"
        },
        "outputId": "3d1740a3-6403-4368-8e5e-c4abac93a09a"
      },
      "source": [
        "from nltk import word_tokenize, bigrams\n",
        "\n",
        "sentence = 'I love data science and deep learning'\n",
        "tokens = word_tokenize(sentence)\n",
        "\n",
        "bgram = bigrams(tokens)\n",
        "bgram_list = [x for x in bgram]\n",
        "print(bgram_list)"
      ],
      "execution_count": 2,
      "outputs": [
        {
          "output_type": "stream",
          "name": "stdout",
          "text": [
            "[('I', 'love'), ('love', 'data'), ('data', 'science'), ('science', 'and'), ('and', 'deep'), ('deep', 'learning')]\n"
          ]
        }
      ]
    },
    {
      "cell_type": "code",
      "metadata": {
        "id": "bRoIscVjZFV9",
        "colab": {
          "base_uri": "https://localhost:8080/"
        },
        "outputId": "d24813e8-1e35-4005-b64f-31f2732b1bd8"
      },
      "source": [
        "from nltk.util import ngrams\n",
        "\n",
        "tgram = ngrams(tokens, 3)\n",
        "qgram = ngrams(tokens, 4)\n",
        "\n",
        "tgram_list = [x for x in tgram]\n",
        "qgram_list = [x for x in qgram]\n",
        "\n",
        "print(tgram_list)\n",
        "print(qgram_list)"
      ],
      "execution_count": 3,
      "outputs": [
        {
          "output_type": "stream",
          "name": "stdout",
          "text": [
            "[('I', 'love', 'data'), ('love', 'data', 'science'), ('data', 'science', 'and'), ('science', 'and', 'deep'), ('and', 'deep', 'learning')]\n",
            "[('I', 'love', 'data', 'science'), ('love', 'data', 'science', 'and'), ('data', 'science', 'and', 'deep'), ('science', 'and', 'deep', 'learning')]\n"
          ]
        }
      ]
    },
    {
      "cell_type": "markdown",
      "metadata": {
        "id": "JkWZYBtuW1Gb"
      },
      "source": [
        "## 어휘 동시 출현 빈도의 계수화"
      ]
    },
    {
      "cell_type": "markdown",
      "metadata": {
        "id": "6iMwMrupGj0I"
      },
      "source": [
        "* 동시 출현(Co-occurrence)란 두 개 이상의 어휘가 일정한 범위나 거리 내에서 함께 출현하는 것을 의미\n",
        "* 단어간의 동시 출현 관계를 분석하면 문서나 문장으로부터 두 단어가 유사한 의미를 가졌는지 등의 추상화된 정보를 얻을 수 있음\n",
        "* 동시 출현 빈도는 Window라는 지정 범위 내에서 동시 등장한 어휘를 확률 등으로 계수화 가능\n",
        "* 예를 들어, 단어 뒤 잘못된 단어가 온다면, 이를 동시 출현 빈도가 높은 단어로 교정 가능"
      ]
    },
    {
      "cell_type": "markdown",
      "metadata": {
        "id": "xdeJzfWKefM6"
      },
      "source": [
        "* 어휘 동시 출현 빈도 행렬은 하나하나 측정할 수도 있지만, 바이그램 개수를 정리하면 편리하게 만들어 볼 수 있음\n",
        "* `nltk`에서 제공하는 `ConditionalFreqDist` 함수를 이용하면 문맥별 단어 빈도를 쉽게 측정 가능"
      ]
    },
    {
      "cell_type": "code",
      "metadata": {
        "id": "j37YObgSumih",
        "colab": {
          "base_uri": "https://localhost:8080/"
        },
        "outputId": "0f0b74a8-e06e-4de1-d640-9eb267181285"
      },
      "source": [
        "from nltk import ConditionalFreqDist\n",
        "\n",
        "sentences = ['I love data science and deep learning', \n",
        "             'I love science',\n",
        "             'I know this code']\n",
        "\n",
        "tokens = [word_tokenize(x) for x in sentences]\n",
        "\n",
        "bgrams = [bigrams(x) for x in tokens]\n",
        "\n",
        "token = []\n",
        "\n",
        "for i in bgrams:\n",
        "    token += ([x for x in i])\n",
        "\n",
        "cfd = ConditionalFreqDist(token)\n",
        "cfd.conditions()"
      ],
      "execution_count": 4,
      "outputs": [
        {
          "output_type": "execute_result",
          "data": {
            "text/plain": [
              "['I', 'love', 'data', 'science', 'and', 'deep', 'know', 'this']"
            ]
          },
          "metadata": {},
          "execution_count": 4
        }
      ]
    },
    {
      "cell_type": "code",
      "metadata": {
        "id": "5nLFrqh0bDDu",
        "colab": {
          "base_uri": "https://localhost:8080/"
        },
        "outputId": "7c92600b-123a-4983-b7bc-c32e5a09bbe3"
      },
      "source": [
        "print(cfd['I'])"
      ],
      "execution_count": 5,
      "outputs": [
        {
          "output_type": "stream",
          "name": "stdout",
          "text": [
            "<FreqDist with 2 samples and 3 outcomes>\n"
          ]
        }
      ]
    },
    {
      "cell_type": "code",
      "metadata": {
        "id": "1qi_TGyUbEye",
        "colab": {
          "base_uri": "https://localhost:8080/"
        },
        "outputId": "4b8c1b98-c614-4564-b4a6-36277df49664"
      },
      "source": [
        "print(cfd['I']['love']) # i, love의 동시 빈도 출현을 알 수 있다."
      ],
      "execution_count": 6,
      "outputs": [
        {
          "output_type": "stream",
          "name": "stdout",
          "text": [
            "2\n"
          ]
        }
      ]
    },
    {
      "cell_type": "code",
      "metadata": {
        "id": "212HozdE76Ne",
        "colab": {
          "base_uri": "https://localhost:8080/"
        },
        "outputId": "4a87d00d-422d-4140-8f73-5e423b7cbb28"
      },
      "source": [
        "print(cfd['I'].most_common(1)) # i와 동시 출현 빈도가 높은 것을 출력한다."
      ],
      "execution_count": 7,
      "outputs": [
        {
          "output_type": "stream",
          "name": "stdout",
          "text": [
            "[('love', 2)]\n"
          ]
        }
      ]
    },
    {
      "cell_type": "code",
      "metadata": {
        "id": "O8W76iFvWy5i",
        "colab": {
          "base_uri": "https://localhost:8080/"
        },
        "outputId": "1b7efb6f-d4aa-4166-bdba-08300ea9e6cc"
      },
      "source": [
        "import numpy as np\n",
        "\n",
        "freq_metrix = []\n",
        "\n",
        "for i in cfd.keys():\n",
        "    temp = []\n",
        "    for j in cfd.keys():\n",
        "        temp.append(cfd[i][j])\n",
        "    freq_metrix.append(temp)\n",
        "freq_metrix = np.array(freq_metrix)\n",
        "\n",
        "print(cfd.keys())\n",
        "print(freq_metrix)\n",
        "\n",
        "# 단어의 동시 출현 빈도는 메트릭스를 사용하여 표현한다."
      ],
      "execution_count": 8,
      "outputs": [
        {
          "output_type": "stream",
          "name": "stdout",
          "text": [
            "dict_keys(['I', 'love', 'data', 'science', 'and', 'deep', 'know', 'this'])\n",
            "[[0 2 0 0 0 0 1 0]\n",
            " [0 0 1 1 0 0 0 0]\n",
            " [0 0 0 1 0 0 0 0]\n",
            " [0 0 0 0 1 0 0 0]\n",
            " [0 0 0 0 0 1 0 0]\n",
            " [0 0 0 0 0 0 0 0]\n",
            " [0 0 0 0 0 0 0 1]\n",
            " [0 0 0 0 0 0 0 0]]\n"
          ]
        }
      ]
    },
    {
      "cell_type": "markdown",
      "metadata": {
        "id": "IdfUT9Y_wXID"
      },
      "source": [
        "* 해당 동시 출현 빈도 행렬을 좀 더 보기 쉽도록 데이터프레임으로 시각화"
      ]
    },
    {
      "cell_type": "code",
      "metadata": {
        "id": "PpSGjtsjXnHT",
        "colab": {
          "base_uri": "https://localhost:8080/",
          "height": 300
        },
        "outputId": "ea335502-8d8f-4598-89ff-1799146b2b85"
      },
      "source": [
        "import pandas as pd\n",
        "\n",
        "df = pd.DataFrame(freq_metrix, index = cfd.keys(), columns = cfd.keys())\n",
        "df.style.background_gradient(cmap = 'coolwarm')"
      ],
      "execution_count": 9,
      "outputs": [
        {
          "output_type": "execute_result",
          "data": {
            "text/plain": [
              "<pandas.io.formats.style.Styler at 0x7fa4b561a970>"
            ],
            "text/html": [
              "<style type=\"text/css\">\n",
              "#T_1cc83_row0_col0, #T_1cc83_row0_col2, #T_1cc83_row0_col3, #T_1cc83_row0_col4, #T_1cc83_row0_col5, #T_1cc83_row0_col7, #T_1cc83_row1_col0, #T_1cc83_row1_col1, #T_1cc83_row1_col4, #T_1cc83_row1_col5, #T_1cc83_row1_col6, #T_1cc83_row1_col7, #T_1cc83_row2_col0, #T_1cc83_row2_col1, #T_1cc83_row2_col2, #T_1cc83_row2_col4, #T_1cc83_row2_col5, #T_1cc83_row2_col6, #T_1cc83_row2_col7, #T_1cc83_row3_col0, #T_1cc83_row3_col1, #T_1cc83_row3_col2, #T_1cc83_row3_col3, #T_1cc83_row3_col5, #T_1cc83_row3_col6, #T_1cc83_row3_col7, #T_1cc83_row4_col0, #T_1cc83_row4_col1, #T_1cc83_row4_col2, #T_1cc83_row4_col3, #T_1cc83_row4_col4, #T_1cc83_row4_col6, #T_1cc83_row4_col7, #T_1cc83_row5_col0, #T_1cc83_row5_col1, #T_1cc83_row5_col2, #T_1cc83_row5_col3, #T_1cc83_row5_col4, #T_1cc83_row5_col5, #T_1cc83_row5_col6, #T_1cc83_row5_col7, #T_1cc83_row6_col0, #T_1cc83_row6_col1, #T_1cc83_row6_col2, #T_1cc83_row6_col3, #T_1cc83_row6_col4, #T_1cc83_row6_col5, #T_1cc83_row6_col6, #T_1cc83_row7_col0, #T_1cc83_row7_col1, #T_1cc83_row7_col2, #T_1cc83_row7_col3, #T_1cc83_row7_col4, #T_1cc83_row7_col5, #T_1cc83_row7_col6, #T_1cc83_row7_col7 {\n",
              "  background-color: #3b4cc0;\n",
              "  color: #f1f1f1;\n",
              "}\n",
              "#T_1cc83_row0_col1, #T_1cc83_row0_col6, #T_1cc83_row1_col2, #T_1cc83_row1_col3, #T_1cc83_row2_col3, #T_1cc83_row3_col4, #T_1cc83_row4_col5, #T_1cc83_row6_col7 {\n",
              "  background-color: #b40426;\n",
              "  color: #f1f1f1;\n",
              "}\n",
              "</style>\n",
              "<table id=\"T_1cc83_\" class=\"dataframe\">\n",
              "  <thead>\n",
              "    <tr>\n",
              "      <th class=\"blank level0\" >&nbsp;</th>\n",
              "      <th class=\"col_heading level0 col0\" >I</th>\n",
              "      <th class=\"col_heading level0 col1\" >love</th>\n",
              "      <th class=\"col_heading level0 col2\" >data</th>\n",
              "      <th class=\"col_heading level0 col3\" >science</th>\n",
              "      <th class=\"col_heading level0 col4\" >and</th>\n",
              "      <th class=\"col_heading level0 col5\" >deep</th>\n",
              "      <th class=\"col_heading level0 col6\" >know</th>\n",
              "      <th class=\"col_heading level0 col7\" >this</th>\n",
              "    </tr>\n",
              "  </thead>\n",
              "  <tbody>\n",
              "    <tr>\n",
              "      <th id=\"T_1cc83_level0_row0\" class=\"row_heading level0 row0\" >I</th>\n",
              "      <td id=\"T_1cc83_row0_col0\" class=\"data row0 col0\" >0</td>\n",
              "      <td id=\"T_1cc83_row0_col1\" class=\"data row0 col1\" >2</td>\n",
              "      <td id=\"T_1cc83_row0_col2\" class=\"data row0 col2\" >0</td>\n",
              "      <td id=\"T_1cc83_row0_col3\" class=\"data row0 col3\" >0</td>\n",
              "      <td id=\"T_1cc83_row0_col4\" class=\"data row0 col4\" >0</td>\n",
              "      <td id=\"T_1cc83_row0_col5\" class=\"data row0 col5\" >0</td>\n",
              "      <td id=\"T_1cc83_row0_col6\" class=\"data row0 col6\" >1</td>\n",
              "      <td id=\"T_1cc83_row0_col7\" class=\"data row0 col7\" >0</td>\n",
              "    </tr>\n",
              "    <tr>\n",
              "      <th id=\"T_1cc83_level0_row1\" class=\"row_heading level0 row1\" >love</th>\n",
              "      <td id=\"T_1cc83_row1_col0\" class=\"data row1 col0\" >0</td>\n",
              "      <td id=\"T_1cc83_row1_col1\" class=\"data row1 col1\" >0</td>\n",
              "      <td id=\"T_1cc83_row1_col2\" class=\"data row1 col2\" >1</td>\n",
              "      <td id=\"T_1cc83_row1_col3\" class=\"data row1 col3\" >1</td>\n",
              "      <td id=\"T_1cc83_row1_col4\" class=\"data row1 col4\" >0</td>\n",
              "      <td id=\"T_1cc83_row1_col5\" class=\"data row1 col5\" >0</td>\n",
              "      <td id=\"T_1cc83_row1_col6\" class=\"data row1 col6\" >0</td>\n",
              "      <td id=\"T_1cc83_row1_col7\" class=\"data row1 col7\" >0</td>\n",
              "    </tr>\n",
              "    <tr>\n",
              "      <th id=\"T_1cc83_level0_row2\" class=\"row_heading level0 row2\" >data</th>\n",
              "      <td id=\"T_1cc83_row2_col0\" class=\"data row2 col0\" >0</td>\n",
              "      <td id=\"T_1cc83_row2_col1\" class=\"data row2 col1\" >0</td>\n",
              "      <td id=\"T_1cc83_row2_col2\" class=\"data row2 col2\" >0</td>\n",
              "      <td id=\"T_1cc83_row2_col3\" class=\"data row2 col3\" >1</td>\n",
              "      <td id=\"T_1cc83_row2_col4\" class=\"data row2 col4\" >0</td>\n",
              "      <td id=\"T_1cc83_row2_col5\" class=\"data row2 col5\" >0</td>\n",
              "      <td id=\"T_1cc83_row2_col6\" class=\"data row2 col6\" >0</td>\n",
              "      <td id=\"T_1cc83_row2_col7\" class=\"data row2 col7\" >0</td>\n",
              "    </tr>\n",
              "    <tr>\n",
              "      <th id=\"T_1cc83_level0_row3\" class=\"row_heading level0 row3\" >science</th>\n",
              "      <td id=\"T_1cc83_row3_col0\" class=\"data row3 col0\" >0</td>\n",
              "      <td id=\"T_1cc83_row3_col1\" class=\"data row3 col1\" >0</td>\n",
              "      <td id=\"T_1cc83_row3_col2\" class=\"data row3 col2\" >0</td>\n",
              "      <td id=\"T_1cc83_row3_col3\" class=\"data row3 col3\" >0</td>\n",
              "      <td id=\"T_1cc83_row3_col4\" class=\"data row3 col4\" >1</td>\n",
              "      <td id=\"T_1cc83_row3_col5\" class=\"data row3 col5\" >0</td>\n",
              "      <td id=\"T_1cc83_row3_col6\" class=\"data row3 col6\" >0</td>\n",
              "      <td id=\"T_1cc83_row3_col7\" class=\"data row3 col7\" >0</td>\n",
              "    </tr>\n",
              "    <tr>\n",
              "      <th id=\"T_1cc83_level0_row4\" class=\"row_heading level0 row4\" >and</th>\n",
              "      <td id=\"T_1cc83_row4_col0\" class=\"data row4 col0\" >0</td>\n",
              "      <td id=\"T_1cc83_row4_col1\" class=\"data row4 col1\" >0</td>\n",
              "      <td id=\"T_1cc83_row4_col2\" class=\"data row4 col2\" >0</td>\n",
              "      <td id=\"T_1cc83_row4_col3\" class=\"data row4 col3\" >0</td>\n",
              "      <td id=\"T_1cc83_row4_col4\" class=\"data row4 col4\" >0</td>\n",
              "      <td id=\"T_1cc83_row4_col5\" class=\"data row4 col5\" >1</td>\n",
              "      <td id=\"T_1cc83_row4_col6\" class=\"data row4 col6\" >0</td>\n",
              "      <td id=\"T_1cc83_row4_col7\" class=\"data row4 col7\" >0</td>\n",
              "    </tr>\n",
              "    <tr>\n",
              "      <th id=\"T_1cc83_level0_row5\" class=\"row_heading level0 row5\" >deep</th>\n",
              "      <td id=\"T_1cc83_row5_col0\" class=\"data row5 col0\" >0</td>\n",
              "      <td id=\"T_1cc83_row5_col1\" class=\"data row5 col1\" >0</td>\n",
              "      <td id=\"T_1cc83_row5_col2\" class=\"data row5 col2\" >0</td>\n",
              "      <td id=\"T_1cc83_row5_col3\" class=\"data row5 col3\" >0</td>\n",
              "      <td id=\"T_1cc83_row5_col4\" class=\"data row5 col4\" >0</td>\n",
              "      <td id=\"T_1cc83_row5_col5\" class=\"data row5 col5\" >0</td>\n",
              "      <td id=\"T_1cc83_row5_col6\" class=\"data row5 col6\" >0</td>\n",
              "      <td id=\"T_1cc83_row5_col7\" class=\"data row5 col7\" >0</td>\n",
              "    </tr>\n",
              "    <tr>\n",
              "      <th id=\"T_1cc83_level0_row6\" class=\"row_heading level0 row6\" >know</th>\n",
              "      <td id=\"T_1cc83_row6_col0\" class=\"data row6 col0\" >0</td>\n",
              "      <td id=\"T_1cc83_row6_col1\" class=\"data row6 col1\" >0</td>\n",
              "      <td id=\"T_1cc83_row6_col2\" class=\"data row6 col2\" >0</td>\n",
              "      <td id=\"T_1cc83_row6_col3\" class=\"data row6 col3\" >0</td>\n",
              "      <td id=\"T_1cc83_row6_col4\" class=\"data row6 col4\" >0</td>\n",
              "      <td id=\"T_1cc83_row6_col5\" class=\"data row6 col5\" >0</td>\n",
              "      <td id=\"T_1cc83_row6_col6\" class=\"data row6 col6\" >0</td>\n",
              "      <td id=\"T_1cc83_row6_col7\" class=\"data row6 col7\" >1</td>\n",
              "    </tr>\n",
              "    <tr>\n",
              "      <th id=\"T_1cc83_level0_row7\" class=\"row_heading level0 row7\" >this</th>\n",
              "      <td id=\"T_1cc83_row7_col0\" class=\"data row7 col0\" >0</td>\n",
              "      <td id=\"T_1cc83_row7_col1\" class=\"data row7 col1\" >0</td>\n",
              "      <td id=\"T_1cc83_row7_col2\" class=\"data row7 col2\" >0</td>\n",
              "      <td id=\"T_1cc83_row7_col3\" class=\"data row7 col3\" >0</td>\n",
              "      <td id=\"T_1cc83_row7_col4\" class=\"data row7 col4\" >0</td>\n",
              "      <td id=\"T_1cc83_row7_col5\" class=\"data row7 col5\" >0</td>\n",
              "      <td id=\"T_1cc83_row7_col6\" class=\"data row7 col6\" >0</td>\n",
              "      <td id=\"T_1cc83_row7_col7\" class=\"data row7 col7\" >0</td>\n",
              "    </tr>\n",
              "  </tbody>\n",
              "</table>\n"
            ]
          },
          "metadata": {},
          "execution_count": 9
        }
      ]
    },
    {
      "cell_type": "markdown",
      "metadata": {
        "id": "BGGjGxUrwi2b"
      },
      "source": [
        "* 동시 출현 빈도 행렬은 인접 행렬로도 간주할 수 있음\n",
        "* `networkx` 라이브러리를 사용해 해당 행렬을 그래프로 시각화"
      ]
    },
    {
      "cell_type": "markdown",
      "metadata": {
        "id": "n02wBj9d1lfg"
      },
      "source": [
        "* 앞서 만든 데이터프레임을 그래프로 변환\n",
        "* 넘파이 배열 등으로도 가능하나, 이 경우 별도로 라벨을 지정해줘야만 함"
      ]
    },
    {
      "cell_type": "code",
      "metadata": {
        "id": "NP_fVs57wjK4",
        "colab": {
          "base_uri": "https://localhost:8080/"
        },
        "outputId": "38c3682a-207e-420c-e6c3-3c296a474462"
      },
      "source": [
        "import networkx as nx\n",
        "\n",
        "G = nx.from_pandas_adjacency(df)\n",
        "\n",
        "print(G.nodes())\n",
        "print(G.edges())"
      ],
      "execution_count": 10,
      "outputs": [
        {
          "output_type": "stream",
          "name": "stdout",
          "text": [
            "['I', 'love', 'data', 'science', 'and', 'deep', 'know', 'this']\n",
            "[('I', 'love'), ('I', 'know'), ('love', 'data'), ('love', 'science'), ('data', 'science'), ('science', 'and'), ('and', 'deep'), ('know', 'this')]\n"
          ]
        }
      ]
    },
    {
      "cell_type": "markdown",
      "metadata": {
        "id": "VVffevvX12lg"
      },
      "source": [
        "* 각 엣지에 접근해보면 각 엣지의 가중치에 각 단어간의 빈도가 사용된 것을 확인 가능"
      ]
    },
    {
      "cell_type": "code",
      "metadata": {
        "id": "5_ip9oSd2AOY",
        "colab": {
          "base_uri": "https://localhost:8080/"
        },
        "outputId": "b55aeacc-e2ce-4ead-a47f-c60a309643a9"
      },
      "source": [
        "print(G.edges()['I', 'love'])\n",
        "print(G.edges()['I', 'know'])"
      ],
      "execution_count": 11,
      "outputs": [
        {
          "output_type": "stream",
          "name": "stdout",
          "text": [
            "{'weight': 2}\n",
            "{'weight': 1}\n"
          ]
        }
      ]
    },
    {
      "cell_type": "markdown",
      "metadata": {
        "id": "I2TNV9401ke7"
      },
      "source": [
        "* `nx.draw`를 통해 간편하게 그래프를 시각화할 수 있음"
      ]
    },
    {
      "cell_type": "code",
      "metadata": {
        "id": "2bt9zZ0P1aCc",
        "colab": {
          "base_uri": "https://localhost:8080/",
          "height": 248
        },
        "outputId": "184907eb-5707-4b51-c50d-d85911bf292a"
      },
      "source": [
        "pos = nx.kamada_kawai_layout(G)\n",
        "nx.draw_networkx(G, pos, with_labels = True)"
      ],
      "execution_count": 18,
      "outputs": [
        {
          "output_type": "display_data",
          "data": {
            "text/plain": [
              "<Figure size 432x288 with 1 Axes>"
            ],
            "image/png": "[encoded data removed]"
          },
          "metadata": {}
        }
      ]
    },
    {
      "cell_type": "markdown",
      "metadata": {
        "id": "MrafXR_vaqd9"
      },
      "source": [
        "* 어휘 동시 출현 빈도를 이용하면 어휘 동시 출현 확률까지 측정 가능\n",
        "* 어휘 동시 출현 확률 계산에는 `nltk`의 `ConditionalProbDist`를 이용"
      ]
    },
    {
      "cell_type": "code",
      "metadata": {
        "id": "dOfiGSVL8I38",
        "colab": {
          "base_uri": "https://localhost:8080/"
        },
        "outputId": "7cbc6ed9-1640-4cf2-da4b-afa3fb7a1bda"
      },
      "source": [
        "from nltk.probability import ConditionalProbDist, MLEProbDist\n",
        "\n",
        "cpd = ConditionalProbDist(cfd, MLEProbDist)\n",
        "cpd.conditions()"
      ],
      "execution_count": 26,
      "outputs": [
        {
          "output_type": "execute_result",
          "data": {
            "text/plain": [
              "['I', 'love', 'data', 'science', 'and', 'deep', 'know', 'this']"
            ]
          },
          "metadata": {},
          "execution_count": 26
        }
      ]
    },
    {
      "cell_type": "code",
      "metadata": {
        "id": "aliwTDpm85V5",
        "colab": {
          "base_uri": "https://localhost:8080/"
        },
        "outputId": "86ae432d-736e-40c8-91e0-c6bcc700d8c7"
      },
      "source": [
        "prob_matrix = []\n",
        "\n",
        "for i in cpd.keys():\n",
        "    prob_matrix.append([cpd[i].prob(j) for j in cpd.keys()])\n",
        "    \n",
        "prob_matrix = np.array(prob_matrix)\n",
        "\n",
        "print(cpd.keys())\n",
        "print(prob_matrix)"
      ],
      "execution_count": 28,
      "outputs": [
        {
          "output_type": "stream",
          "name": "stdout",
          "text": [
            "dict_keys(['I', 'love', 'data', 'science', 'and', 'deep', 'know', 'this'])\n",
            "[[0.         0.66666667 0.         0.         0.         0.\n",
            "  0.33333333 0.        ]\n",
            " [0.         0.         0.5        0.5        0.         0.\n",
            "  0.         0.        ]\n",
            " [0.         0.         0.         1.         0.         0.\n",
            "  0.         0.        ]\n",
            " [0.         0.         0.         0.         1.         0.\n",
            "  0.         0.        ]\n",
            " [0.         0.         0.         0.         0.         1.\n",
            "  0.         0.        ]\n",
            " [0.         0.         0.         0.         0.         0.\n",
            "  0.         0.        ]\n",
            " [0.         0.         0.         0.         0.         0.\n",
            "  0.         1.        ]\n",
            " [0.         0.         0.         0.         0.         0.\n",
            "  0.         0.        ]]\n"
          ]
        }
      ]
    },
    {
      "cell_type": "code",
      "metadata": {
        "id": "DELaFrOLQyTY",
        "colab": {
          "base_uri": "https://localhost:8080/",
          "height": 300
        },
        "outputId": "c85d980a-39f0-423f-81c2-c34689cc686f"
      },
      "source": [
        "df = pd.DataFrame(prob_matrix, index = cpd.keys(), columns = cpd.keys())\n",
        "df.style.background_gradient(cmap = 'coolwarm')"
      ],
      "execution_count": 29,
      "outputs": [
        {
          "output_type": "execute_result",
          "data": {
            "text/plain": [
              "<pandas.io.formats.style.Styler at 0x7fa7b910ac70>"
            ],
            "text/html": [
              "<style type=\"text/css\">\n",
              "#T_c1e7d_row0_col0, #T_c1e7d_row0_col2, #T_c1e7d_row0_col3, #T_c1e7d_row0_col4, #T_c1e7d_row0_col5, #T_c1e7d_row0_col7, #T_c1e7d_row1_col0, #T_c1e7d_row1_col1, #T_c1e7d_row1_col4, #T_c1e7d_row1_col5, #T_c1e7d_row1_col6, #T_c1e7d_row1_col7, #T_c1e7d_row2_col0, #T_c1e7d_row2_col1, #T_c1e7d_row2_col2, #T_c1e7d_row2_col4, #T_c1e7d_row2_col5, #T_c1e7d_row2_col6, #T_c1e7d_row2_col7, #T_c1e7d_row3_col0, #T_c1e7d_row3_col1, #T_c1e7d_row3_col2, #T_c1e7d_row3_col3, #T_c1e7d_row3_col5, #T_c1e7d_row3_col6, #T_c1e7d_row3_col7, #T_c1e7d_row4_col0, #T_c1e7d_row4_col1, #T_c1e7d_row4_col2, #T_c1e7d_row4_col3, #T_c1e7d_row4_col4, #T_c1e7d_row4_col6, #T_c1e7d_row4_col7, #T_c1e7d_row5_col0, #T_c1e7d_row5_col1, #T_c1e7d_row5_col2, #T_c1e7d_row5_col3, #T_c1e7d_row5_col4, #T_c1e7d_row5_col5, #T_c1e7d_row5_col6, #T_c1e7d_row5_col7, #T_c1e7d_row6_col0, #T_c1e7d_row6_col1, #T_c1e7d_row6_col2, #T_c1e7d_row6_col3, #T_c1e7d_row6_col4, #T_c1e7d_row6_col5, #T_c1e7d_row6_col6, #T_c1e7d_row7_col0, #T_c1e7d_row7_col1, #T_c1e7d_row7_col2, #T_c1e7d_row7_col3, #T_c1e7d_row7_col4, #T_c1e7d_row7_col5, #T_c1e7d_row7_col6, #T_c1e7d_row7_col7 {\n",
              "  background-color: #3b4cc0;\n",
              "  color: #f1f1f1;\n",
              "}\n",
              "#T_c1e7d_row0_col1, #T_c1e7d_row0_col6, #T_c1e7d_row1_col2, #T_c1e7d_row2_col3, #T_c1e7d_row3_col4, #T_c1e7d_row4_col5, #T_c1e7d_row6_col7 {\n",
              "  background-color: #b40426;\n",
              "  color: #f1f1f1;\n",
              "}\n",
              "#T_c1e7d_row1_col3 {\n",
              "  background-color: #dddcdc;\n",
              "  color: #000000;\n",
              "}\n",
              "</style>\n",
              "<table id=\"T_c1e7d_\" class=\"dataframe\">\n",
              "  <thead>\n",
              "    <tr>\n",
              "      <th class=\"blank level0\" >&nbsp;</th>\n",
              "      <th class=\"col_heading level0 col0\" >I</th>\n",
              "      <th class=\"col_heading level0 col1\" >love</th>\n",
              "      <th class=\"col_heading level0 col2\" >data</th>\n",
              "      <th class=\"col_heading level0 col3\" >science</th>\n",
              "      <th class=\"col_heading level0 col4\" >and</th>\n",
              "      <th class=\"col_heading level0 col5\" >deep</th>\n",
              "      <th class=\"col_heading level0 col6\" >know</th>\n",
              "      <th class=\"col_heading level0 col7\" >this</th>\n",
              "    </tr>\n",
              "  </thead>\n",
              "  <tbody>\n",
              "    <tr>\n",
              "      <th id=\"T_c1e7d_level0_row0\" class=\"row_heading level0 row0\" >I</th>\n",
              "      <td id=\"T_c1e7d_row0_col0\" class=\"data row0 col0\" >0.000000</td>\n",
              "      <td id=\"T_c1e7d_row0_col1\" class=\"data row0 col1\" >0.666667</td>\n",
              "      <td id=\"T_c1e7d_row0_col2\" class=\"data row0 col2\" >0.000000</td>\n",
              "      <td id=\"T_c1e7d_row0_col3\" class=\"data row0 col3\" >0.000000</td>\n",
              "      <td id=\"T_c1e7d_row0_col4\" class=\"data row0 col4\" >0.000000</td>\n",
              "      <td id=\"T_c1e7d_row0_col5\" class=\"data row0 col5\" >0.000000</td>\n",
              "      <td id=\"T_c1e7d_row0_col6\" class=\"data row0 col6\" >0.333333</td>\n",
              "      <td id=\"T_c1e7d_row0_col7\" class=\"data row0 col7\" >0.000000</td>\n",
              "    </tr>\n",
              "    <tr>\n",
              "      <th id=\"T_c1e7d_level0_row1\" class=\"row_heading level0 row1\" >love</th>\n",
              "      <td id=\"T_c1e7d_row1_col0\" class=\"data row1 col0\" >0.000000</td>\n",
              "      <td id=\"T_c1e7d_row1_col1\" class=\"data row1 col1\" >0.000000</td>\n",
              "      <td id=\"T_c1e7d_row1_col2\" class=\"data row1 col2\" >0.500000</td>\n",
              "      <td id=\"T_c1e7d_row1_col3\" class=\"data row1 col3\" >0.500000</td>\n",
              "      <td id=\"T_c1e7d_row1_col4\" class=\"data row1 col4\" >0.000000</td>\n",
              "      <td id=\"T_c1e7d_row1_col5\" class=\"data row1 col5\" >0.000000</td>\n",
              "      <td id=\"T_c1e7d_row1_col6\" class=\"data row1 col6\" >0.000000</td>\n",
              "      <td id=\"T_c1e7d_row1_col7\" class=\"data row1 col7\" >0.000000</td>\n",
              "    </tr>\n",
              "    <tr>\n",
              "      <th id=\"T_c1e7d_level0_row2\" class=\"row_heading level0 row2\" >data</th>\n",
              "      <td id=\"T_c1e7d_row2_col0\" class=\"data row2 col0\" >0.000000</td>\n",
              "      <td id=\"T_c1e7d_row2_col1\" class=\"data row2 col1\" >0.000000</td>\n",
              "      <td id=\"T_c1e7d_row2_col2\" class=\"data row2 col2\" >0.000000</td>\n",
              "      <td id=\"T_c1e7d_row2_col3\" class=\"data row2 col3\" >1.000000</td>\n",
              "      <td id=\"T_c1e7d_row2_col4\" class=\"data row2 col4\" >0.000000</td>\n",
              "      <td id=\"T_c1e7d_row2_col5\" class=\"data row2 col5\" >0.000000</td>\n",
              "      <td id=\"T_c1e7d_row2_col6\" class=\"data row2 col6\" >0.000000</td>\n",
              "      <td id=\"T_c1e7d_row2_col7\" class=\"data row2 col7\" >0.000000</td>\n",
              "    </tr>\n",
              "    <tr>\n",
              "      <th id=\"T_c1e7d_level0_row3\" class=\"row_heading level0 row3\" >science</th>\n",
              "      <td id=\"T_c1e7d_row3_col0\" class=\"data row3 col0\" >0.000000</td>\n",
              "      <td id=\"T_c1e7d_row3_col1\" class=\"data row3 col1\" >0.000000</td>\n",
              "      <td id=\"T_c1e7d_row3_col2\" class=\"data row3 col2\" >0.000000</td>\n",
              "      <td id=\"T_c1e7d_row3_col3\" class=\"data row3 col3\" >0.000000</td>\n",
              "      <td id=\"T_c1e7d_row3_col4\" class=\"data row3 col4\" >1.000000</td>\n",
              "      <td id=\"T_c1e7d_row3_col5\" class=\"data row3 col5\" >0.000000</td>\n",
              "      <td id=\"T_c1e7d_row3_col6\" class=\"data row3 col6\" >0.000000</td>\n",
              "      <td id=\"T_c1e7d_row3_col7\" class=\"data row3 col7\" >0.000000</td>\n",
              "    </tr>\n",
              "    <tr>\n",
              "      <th id=\"T_c1e7d_level0_row4\" class=\"row_heading level0 row4\" >and</th>\n",
              "      <td id=\"T_c1e7d_row4_col0\" class=\"data row4 col0\" >0.000000</td>\n",
              "      <td id=\"T_c1e7d_row4_col1\" class=\"data row4 col1\" >0.000000</td>\n",
              "      <td id=\"T_c1e7d_row4_col2\" class=\"data row4 col2\" >0.000000</td>\n",
              "      <td id=\"T_c1e7d_row4_col3\" class=\"data row4 col3\" >0.000000</td>\n",
              "      <td id=\"T_c1e7d_row4_col4\" class=\"data row4 col4\" >0.000000</td>\n",
              "      <td id=\"T_c1e7d_row4_col5\" class=\"data row4 col5\" >1.000000</td>\n",
              "      <td id=\"T_c1e7d_row4_col6\" class=\"data row4 col6\" >0.000000</td>\n",
              "      <td id=\"T_c1e7d_row4_col7\" class=\"data row4 col7\" >0.000000</td>\n",
              "    </tr>\n",
              "    <tr>\n",
              "      <th id=\"T_c1e7d_level0_row5\" class=\"row_heading level0 row5\" >deep</th>\n",
              "      <td id=\"T_c1e7d_row5_col0\" class=\"data row5 col0\" >0.000000</td>\n",
              "      <td id=\"T_c1e7d_row5_col1\" class=\"data row5 col1\" >0.000000</td>\n",
              "      <td id=\"T_c1e7d_row5_col2\" class=\"data row5 col2\" >0.000000</td>\n",
              "      <td id=\"T_c1e7d_row5_col3\" class=\"data row5 col3\" >0.000000</td>\n",
              "      <td id=\"T_c1e7d_row5_col4\" class=\"data row5 col4\" >0.000000</td>\n",
              "      <td id=\"T_c1e7d_row5_col5\" class=\"data row5 col5\" >0.000000</td>\n",
              "      <td id=\"T_c1e7d_row5_col6\" class=\"data row5 col6\" >0.000000</td>\n",
              "      <td id=\"T_c1e7d_row5_col7\" class=\"data row5 col7\" >0.000000</td>\n",
              "    </tr>\n",
              "    <tr>\n",
              "      <th id=\"T_c1e7d_level0_row6\" class=\"row_heading level0 row6\" >know</th>\n",
              "      <td id=\"T_c1e7d_row6_col0\" class=\"data row6 col0\" >0.000000</td>\n",
              "      <td id=\"T_c1e7d_row6_col1\" class=\"data row6 col1\" >0.000000</td>\n",
              "      <td id=\"T_c1e7d_row6_col2\" class=\"data row6 col2\" >0.000000</td>\n",
              "      <td id=\"T_c1e7d_row6_col3\" class=\"data row6 col3\" >0.000000</td>\n",
              "      <td id=\"T_c1e7d_row6_col4\" class=\"data row6 col4\" >0.000000</td>\n",
              "      <td id=\"T_c1e7d_row6_col5\" class=\"data row6 col5\" >0.000000</td>\n",
              "      <td id=\"T_c1e7d_row6_col6\" class=\"data row6 col6\" >0.000000</td>\n",
              "      <td id=\"T_c1e7d_row6_col7\" class=\"data row6 col7\" >1.000000</td>\n",
              "    </tr>\n",
              "    <tr>\n",
              "      <th id=\"T_c1e7d_level0_row7\" class=\"row_heading level0 row7\" >this</th>\n",
              "      <td id=\"T_c1e7d_row7_col0\" class=\"data row7 col0\" >0.000000</td>\n",
              "      <td id=\"T_c1e7d_row7_col1\" class=\"data row7 col1\" >0.000000</td>\n",
              "      <td id=\"T_c1e7d_row7_col2\" class=\"data row7 col2\" >0.000000</td>\n",
              "      <td id=\"T_c1e7d_row7_col3\" class=\"data row7 col3\" >0.000000</td>\n",
              "      <td id=\"T_c1e7d_row7_col4\" class=\"data row7 col4\" >0.000000</td>\n",
              "      <td id=\"T_c1e7d_row7_col5\" class=\"data row7 col5\" >0.000000</td>\n",
              "      <td id=\"T_c1e7d_row7_col6\" class=\"data row7 col6\" >0.000000</td>\n",
              "      <td id=\"T_c1e7d_row7_col7\" class=\"data row7 col7\" >0.000000</td>\n",
              "    </tr>\n",
              "  </tbody>\n",
              "</table>\n"
            ]
          },
          "metadata": {},
          "execution_count": 29
        }
      ]
    },
    {
      "cell_type": "markdown",
      "metadata": {
        "id": "5uS2j0rUytbk"
      },
      "source": [
        "* 확률 행렬도 인접 행렬로 간주할 수 있음\n",
        "* 그래프 시각화시 빈도 행렬과 동일한 결과를 얻을 수 있으나, 확률을 가중치로 사용시 부정확한 결과를 얻을 수 있음"
      ]
    },
    {
      "cell_type": "code",
      "metadata": {
        "id": "qvK09OMeytiM",
        "colab": {
          "base_uri": "https://localhost:8080/"
        },
        "outputId": "154a0c8e-c4d6-46d0-f857-e3630fd91884"
      },
      "source": [
        "prob_G = nx.from_pandas_adjacency(df)\n",
        "\n",
        "print(prob_G.nodes())\n",
        "print(prob_G.edges())"
      ],
      "execution_count": 30,
      "outputs": [
        {
          "output_type": "stream",
          "name": "stdout",
          "text": [
            "['I', 'love', 'data', 'science', 'and', 'deep', 'know', 'this']\n",
            "[('I', 'love'), ('I', 'know'), ('love', 'data'), ('love', 'science'), ('data', 'science'), ('science', 'and'), ('and', 'deep'), ('know', 'this')]\n"
          ]
        }
      ]
    },
    {
      "cell_type": "code",
      "metadata": {
        "id": "NDwhyWPN3YOa",
        "colab": {
          "base_uri": "https://localhost:8080/"
        },
        "outputId": "bd146f5a-f744-4de6-970d-405fd71ad95d"
      },
      "source": [
        "print(G.edges()[('I', 'love')])\n",
        "print(G.edges()[('I', 'know')])\n",
        "\n",
        "print(prob_G.edges()[('I', 'love')])\n",
        "print(prob_G.edges()[('I', 'know')])"
      ],
      "execution_count": 32,
      "outputs": [
        {
          "output_type": "stream",
          "name": "stdout",
          "text": [
            "{'weight': 2}\n",
            "{'weight': 1}\n",
            "{'weight': 0.6666666666666666}\n",
            "{'weight': 0.3333333333333333}\n"
          ]
        }
      ]
    },
    {
      "cell_type": "code",
      "metadata": {
        "id": "R-P_YSj23YgN",
        "colab": {
          "base_uri": "https://localhost:8080/",
          "height": 319
        },
        "outputId": "8f3aa589-e377-481f-c891-821270d7a85d"
      },
      "source": [
        "nx.draw(prob_G, with_labels = True)"
      ],
      "execution_count": 33,
      "outputs": [
        {
          "output_type": "display_data",
          "data": {
            "text/plain": [
              "<Figure size 432x288 with 1 Axes>"
            ],
            "image/png": "[encoded data removed]"
          },
          "metadata": {}
        }
      ]
    },
    {
      "cell_type": "markdown",
      "metadata": {
        "id": "ecrrZMfTzo-a"
      },
      "source": [
        "## 중심성(Centrality) 지수"
      ]
    },
    {
      "cell_type": "markdown",
      "metadata": {
        "id": "UD_m6Jr34IDY"
      },
      "source": [
        "* 연결망 분석에서 가장 많이 주목하는 속성은 바로 중심성 지수\n",
        "* 중심성은 전체 연결망에서 중심에 위치하는 정도를 표현하는 지표로, 이를 분석하면 연결 정도, 중요도 등을 알 수 있음\n",
        "* 중심성 지수는 나타내는 특징에 따라 연결 중심성, 매개 중심성, 근접 중심성, 위세 중심성으로 구분"
      ]
    },
    {
      "cell_type": "markdown",
      "metadata": {
        "id": "yeWdLGGtzv3y"
      },
      "source": [
        "### 연결 중심성(Degree Centrality)"
      ]
    },
    {
      "cell_type": "markdown",
      "metadata": {
        "id": "-KlB1zAYoZIr"
      },
      "source": [
        "* 연결 중심성은 가장 기본적이고 직관적으로 중심섬을 측정하는 지표\n",
        "* 텍스트에서 다른 단어와의 동시 출현 빈도가 많은 특정 단어는 연결 중심성이 높다고 볼 수 있음\n",
        "* 연결 정도로만 측정하면 연결망의 크기에 따라 달라져 비교가 어렵기 때문에 여러 방법으로 표준화\n",
        "* 주로 (특정 노드 i와 직접적으로 연결된 노드 수 / 노드 i와 직간접적으로 연결된 노드 수)로 계산\n",
        "\n",
        "* 여기서 직접적으로 연결된 노드는 서로 엣지 관계인 노드를 뜻하며, 간접적으로 연결된 노드는 서로 엣지 관계는 아니나 다른 노드와 엣지에 의해 도달할 수 있는 노드를 말함"
      ]
    },
    {
      "cell_type": "markdown",
      "metadata": {
        "id": "V6Wpl3ctqJIr"
      },
      "source": [
        "* 연결 중심성 계산 수식\n",
        "\n",
        "$$ degree_{ik} = \\sum_{i=1}^{N} Z_{ijk} = Z_{jk}$$\n",
        "$$ outdegree_{ik} = \\sum_{j=1}^{N} Z_{ijk} = Z_{ik} $$\n",
        "$$ C_{i} = \\sum_{j=1}^{n}(Z_{ij}+Z_{ji}) / \\sum_{i=1}^{n}\\sum_{j=1}^{n}(Z_{ij})\\qquad단, 0\\le C \\le 1$$"
      ]
    },
    {
      "cell_type": "markdown",
      "metadata": {
        "id": "0MfaWMTTsjlh"
      },
      "source": [
        "* 해당 수식을 직접 계산할 수도 있으나,     \n",
        "`networkx`에는 해당 라이브러리로 구성된 그래프의 연결 중심성을 쉽게 계산해주는 함수가 존재   "
      ]
    },
    {
      "cell_type": "code",
      "metadata": {
        "id": "kAuXf3rhzwG6",
        "colab": {
          "base_uri": "https://localhost:8080/"
        },
        "outputId": "3555d7dd-a29c-422e-9380-1247ab3c22fd"
      },
      "source": [
        "nx.degree_centrality(G)"
      ],
      "execution_count": 34,
      "outputs": [
        {
          "output_type": "execute_result",
          "data": {
            "text/plain": [
              "{'I': 0.2857142857142857,\n",
              " 'love': 0.42857142857142855,\n",
              " 'data': 0.2857142857142857,\n",
              " 'science': 0.42857142857142855,\n",
              " 'and': 0.2857142857142857,\n",
              " 'deep': 0.14285714285714285,\n",
              " 'know': 0.2857142857142857,\n",
              " 'this': 0.14285714285714285}"
            ]
          },
          "metadata": {},
          "execution_count": 34
        }
      ]
    },
    {
      "cell_type": "markdown",
      "metadata": {
        "id": "CcXMGpXkzwOC"
      },
      "source": [
        "### 위세 중심성(Eigenvector Centraility)"
      ]
    },
    {
      "cell_type": "markdown",
      "metadata": {
        "id": "9hCmeXpGwYZE"
      },
      "source": [
        "* 위세 중심성은 연결된 상대 단어의 중요성에 가중치를 둠\n",
        "* 중요한 단어와 많이 연결됐다면 위세 중심성은 높아지게 됨\n",
        "* 위세 중심성은 고유 벡터로써 인접해 있는 노드의 위세 점수와 관련되어 있어 직접 계산하기는 쉽지 않음"
      ]
    },
    {
      "cell_type": "markdown",
      "metadata": {
        "id": "7gzAhV3Exw1K"
      },
      "source": [
        "* 위세 중심성 계산 수식\n",
        "\n",
        "$$ P_i =\\sum_{j=1}^{N-1}P_iZ_{ji},\\qquad0 \\le P_i \\le 1$$"
      ]
    },
    {
      "cell_type": "markdown",
      "metadata": {
        "id": "iLprc5-fyPqa"
      },
      "source": [
        "* 위세 중심성 계산에는 `eigenvector_centraility`를 이용해 계산\n",
        "* `weight`로는 어휘 동시 출현 빈도를 이용"
      ]
    },
    {
      "cell_type": "code",
      "metadata": {
        "id": "PynA3AxvzwTI",
        "colab": {
          "base_uri": "https://localhost:8080/"
        },
        "outputId": "af45227c-b61b-4839-b6c1-e8e69f3325da"
      },
      "source": [
        "nx.eigenvector_centrality(G, weight='weight')"
      ],
      "execution_count": 35,
      "outputs": [
        {
          "output_type": "execute_result",
          "data": {
            "text/plain": [
              "{'I': 0.5055042648573065,\n",
              " 'love': 0.6195557831651917,\n",
              " 'data': 0.3570359388519657,\n",
              " 'science': 0.39841035839294925,\n",
              " 'and': 0.15933837227495715,\n",
              " 'deep': 0.055886131430398216,\n",
              " 'know': 0.2021657335029144,\n",
              " 'this': 0.0709058113463014}"
            ]
          },
          "metadata": {},
          "execution_count": 35
        }
      ]
    },
    {
      "cell_type": "markdown",
      "metadata": {
        "id": "Ucp7jIuVzwZ6"
      },
      "source": [
        "### 근접 중심성(Closeness Centrality)\n"
      ]
    },
    {
      "cell_type": "markdown",
      "metadata": {
        "id": "37sMX-YOydX2"
      },
      "source": [
        "* 근접 중심성은 한 단어가 다른 단어에 얼마나 가깝게 있는지를 측정하는 지표\n",
        "* 직접적으로 연결된 노드만 측정하는 연결 중심성과는 다르게, 근접 중심성은 직간접적으로 연결된 모든 노드들 사이의 거리를 측정\n",
        "* 근접 중심성을 측정하기 위해선 다음과 같이 계산\n",
        "\n",
        "  (모든 노드 수 - 1 / 특정 노드 i에서 모든 노드에 이르는 최단 경로 수를 모두 더한 수)"
      ]
    },
    {
      "cell_type": "markdown",
      "metadata": {
        "id": "pe-cPBjI0Dgi"
      },
      "source": [
        "\n",
        "$$ C_C(A) = \\frac{1}{\\frac{1}{N-1}\\sum_{x \\ne A}l_{X,A}} = \\frac{N-1}{\\sum_{x \\ne A}l_{X,A}} $$"
      ]
    },
    {
      "cell_type": "markdown",
      "metadata": {
        "id": "2GuKUAJH05ap"
      },
      "source": [
        "* 근접 중심성을 계산하기 위해선 `closeness_centrality()` 함수를 사용"
      ]
    },
    {
      "cell_type": "code",
      "metadata": {
        "id": "zllK1iK9zwiM",
        "colab": {
          "base_uri": "https://localhost:8080/"
        },
        "outputId": "c981cd7a-63b0-4bd1-ccb9-a3f0b3d4ca83"
      },
      "source": [
        "nx.closeness_centrality(G, distance= 'weight')"
      ],
      "execution_count": 36,
      "outputs": [
        {
          "output_type": "execute_result",
          "data": {
            "text/plain": [
              "{'I': 0.35,\n",
              " 'love': 0.4375,\n",
              " 'data': 0.3684210526315789,\n",
              " 'science': 0.4117647058823529,\n",
              " 'and': 0.3333333333333333,\n",
              " 'deep': 0.25925925925925924,\n",
              " 'know': 0.2916666666666667,\n",
              " 'this': 0.23333333333333334}"
            ]
          },
          "metadata": {},
          "execution_count": 36
        }
      ]
    },
    {
      "cell_type": "markdown",
      "metadata": {
        "id": "G1l7sHdtz35g"
      },
      "source": [
        "### 매개 중심성(Betweeness Centrality)"
      ]
    },
    {
      "cell_type": "markdown",
      "metadata": {
        "id": "yEXo-gzV2sQQ"
      },
      "source": [
        "* 매개 중심성은 한 단어가 단어들과의 연결망을 구축하는데 얼마나 도움을 주는지 측정하는 지표\n",
        "* 매개 중심성이 높은 단어는 빈도 수가 작더라도 단어 간 의미부여 역할이 크기 때문에, 해당 단어를 제거하면 의사소통이 어려워짐\n",
        "* 매개 중심성은 모든 노드 간 최단 경로에서 특정 노드가 등장하는 횟수로 측정하며,     \n",
        "표준화를 위해 최댓값인 (N-1) x (N-2) / 2로 나눔"
      ]
    },
    {
      "cell_type": "markdown",
      "metadata": {
        "id": "ogCMdFoL1Ch4"
      },
      "source": [
        "* 매개 중심성 계산 수식\n",
        "\n",
        "$$ C_{B}^{'}(P_m) = \\frac{\\sum_i^N \\sum_j^N \\frac{g_{imj}}{g_{ij}}}{(\\frac{N^2-3N+2}{2})}, \\qquad 단, i<j,\\quad i \\ne j$$"
      ]
    },
    {
      "cell_type": "markdown",
      "metadata": {
        "id": "efWuZV2P39hc"
      },
      "source": [
        "* 매개 중심성을 계산하기 위해선 `current_flow_betweenness_centrality()` 함수를 이용"
      ]
    },
    {
      "cell_type": "code",
      "metadata": {
        "id": "q0rYR3wQz3-D",
        "colab": {
          "base_uri": "https://localhost:8080/"
        },
        "outputId": "458a9a67-cad5-411d-c4a8-20acd44d8da9"
      },
      "source": [
        "nx.betweenness_centrality(G)"
      ],
      "execution_count": 37,
      "outputs": [
        {
          "output_type": "execute_result",
          "data": {
            "text/plain": [
              "{'I': 0.47619047619047616,\n",
              " 'love': 0.5714285714285714,\n",
              " 'data': 0.0,\n",
              " 'science': 0.47619047619047616,\n",
              " 'and': 0.2857142857142857,\n",
              " 'deep': 0.0,\n",
              " 'know': 0.2857142857142857,\n",
              " 'this': 0.0}"
            ]
          },
          "metadata": {},
          "execution_count": 37
        }
      ]
    },
    {
      "cell_type": "markdown",
      "metadata": {
        "id": "lhdU3ocgtNt-"
      },
      "source": [
        "### 페이지랭크(PageRank)\n",
        "\n",
        "* 월드 와이드 웹과 같은 하이퍼링크 구조를 가지는 문서에 상대적 중요도에 따라 가중치를 부여하는 방법\n",
        "* 이 알고리즘은 서로간에 인용과 참조로 연결된 임의의 묶음에 적용 가능\n",
        "* 페이지 랭크는 더 중요한 페이지는 더 많은 다른 사이트로부터 링크를 받는다는 관찰에 기초"
      ]
    },
    {
      "cell_type": "code",
      "source": [
        "!pip install --upgrade networkx==2.6 # 버젼 오류 해결"
      ],
      "metadata": {
        "id": "Eeqx4a1w2pNC"
      },
      "execution_count": null,
      "outputs": []
    },
    {
      "cell_type": "code",
      "metadata": {
        "id": "_YcT9iUDtfUZ",
        "colab": {
          "base_uri": "https://localhost:8080/"
        },
        "outputId": "394e5ce0-263b-4702-9a0d-410655675f42"
      },
      "source": [
        "nx.pagerank(G)"
      ],
      "execution_count": 43,
      "outputs": [
        {
          "output_type": "execute_result",
          "data": {
            "text/plain": [
              "{'I': 0.1536831077679558,\n",
              " 'love': 0.19501225218917406,\n",
              " 'data': 0.10481873412175656,\n",
              " 'science': 0.15751225722745082,\n",
              " 'and': 0.12417333539164832,\n",
              " 'deep': 0.07152392879557615,\n",
              " 'know': 0.1224741813421488,\n",
              " 'this': 0.07080220316428934}"
            ]
          },
          "metadata": {},
          "execution_count": 43
        }
      ]
    },
    {
      "cell_type": "code",
      "source": [
        "def get_node_size(node_values):\n",
        "    nsize = np.array([v for v in node_values])\n",
        "    nsize = 1000 * (nsize - min(nsize)) / (max(nsize) - min(nsize))\n",
        "\n",
        "    return nsize"
      ],
      "metadata": {
        "id": "zcksnW369Iwo"
      },
      "execution_count": 50,
      "outputs": []
    },
    {
      "cell_type": "code",
      "metadata": {
        "id": "n-owk0_FsOSL",
        "colab": {
          "base_uri": "https://localhost:8080/",
          "height": 1000
        },
        "outputId": "0d5b9ac4-2488-40eb-d5b8-75db29d41bd2"
      },
      "source": [
        "import matplotlib.pyplot as plt\n",
        "\n",
        "plt.style.use('seaborn-white')\n",
        "\n",
        "dc = nx.degree_centrality(G).values()\n",
        "ec = nx.eigenvector_centrality(G, weight = 'weight').values()\n",
        "cc = nx.closeness_centrality(G, distance ='weight').values()\n",
        "bc = nx.betweenness_centrality(G).values()\n",
        "pr = nx.pagerank(G).values()\n",
        "\n",
        "plt.figure(figsize=(14, 20))\n",
        "plt.axis('off')\n",
        "\n",
        "plt.subplot(321)\n",
        "plt.title('Normal', fontsize = 16)\n",
        "nx.draw_networkx(G, font_size = 16, alpha = 0.7, cmap = plt.cm.Blues)\n",
        "\n",
        "plt.subplot(322)\n",
        "plt.title('Degree Centrality', fontsize = 16)\n",
        "nx.draw_networkx(G, font_size = 16, \n",
        "                 node_color = list(dc), node_size = get_node_size(dc),\n",
        "                 alpha = 0.7, cmap = plt.cm.Blues)\n",
        "\n",
        "plt.subplot(323)\n",
        "plt.title('Eigenvector Centrality', fontsize = 16)\n",
        "nx.draw_networkx(G, font_size = 16, \n",
        "                 node_color = list(ec), node_size = get_node_size(ec),\n",
        "                 alpha = 0.7, cmap = plt.cm.Blues)\n",
        "\n",
        "plt.subplot(324)\n",
        "plt.title('Closeness Centrality', fontsize = 16)\n",
        "nx.draw_networkx(G, font_size = 16, \n",
        "                 node_color = list(cc), node_size = get_node_size(cc),\n",
        "                 alpha = 0.7, cmap = plt.cm.Blues)\n",
        "\n",
        "plt.subplot(325)\n",
        "plt.title('Betweenness Centrality', fontsize = 16)\n",
        "nx.draw_networkx(G, font_size = 16, \n",
        "                 node_color = list(bc), node_size = get_node_size(bc),\n",
        "                 alpha = 0.7, cmap = plt.cm.Blues)\n",
        "\n",
        "plt.subplot(326)\n",
        "plt.title('PageRank', fontsize = 16)\n",
        "nx.draw_networkx(G, font_size = 16, \n",
        "                 node_color = list(pr), node_size = get_node_size(pr),\n",
        "                 alpha = 0.7, cmap = plt.cm.Blues)\n",
        "\n",
        "plt.show()"
      ],
      "execution_count": 52,
      "outputs": [
        {
          "output_type": "stream",
          "name": "stderr",
          "text": [
            "<ipython-input-52-a763b80ed5e4>:3: MatplotlibDeprecationWarning: The seaborn styles shipped by Matplotlib are deprecated since 3.6, as they no longer correspond to the styles shipped by seaborn. However, they will remain available as 'seaborn-v0_8-<style>'. Alternatively, directly use the seaborn API instead.\n",
            "  plt.style.use('seaborn-white')\n",
            "<ipython-input-52-a763b80ed5e4>:14: MatplotlibDeprecationWarning: Auto-removal of overlapping axes is deprecated since 3.6 and will be removed two minor releases later; explicitly call ax.remove() as needed.\n",
            "  plt.subplot(321)\n",
            "/usr/local/lib/python3.8/dist-packages/networkx/drawing/nx_pylab.py:462: UserWarning: No data for colormapping provided via 'c'. Parameters 'cmap' will be ignored\n",
            "  node_collection = ax.scatter(\n"
          ]
        },
        {
          "output_type": "display_data",
          "data": {
            "text/plain": [
              "<Figure size 1008x1440 with 6 Axes>"
            ],
            "image/png": "[encoded data removed]"
          },
          "metadata": {}
        }
      ]
    },
    {
      "cell_type": "code",
      "metadata": {
        "id": "QBZ_wVlLlDiu"
      },
      "source": [],
      "execution_count": null,
      "outputs": []
    }
  ]
}